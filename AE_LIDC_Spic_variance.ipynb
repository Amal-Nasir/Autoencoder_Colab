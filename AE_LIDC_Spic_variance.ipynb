{
  "cells": [
    {
      "cell_type": "code",
      "execution_count": null,
      "metadata": {
        "colab": {
          "base_uri": "https://localhost:8080/"
        },
        "id": "iapjMoGoR5U3",
        "outputId": "8956413b-dcc0-4fe1-affc-77f68351fe49"
      },
      "outputs": [
        {
          "output_type": "stream",
          "name": "stdout",
          "text": [
            "Mounted at /content/drive\n"
          ]
        }
      ],
      "source": [
        "from google.colab import drive\n",
        "drive.mount('/content/drive')"
      ]
    },
    {
      "cell_type": "code",
      "execution_count": null,
      "metadata": {
        "id": "_ulkz4_55ZYO",
        "colab": {
          "base_uri": "https://localhost:8080/"
        },
        "outputId": "dc389edd-2648-4ff8-b77a-89d7ad450aa6"
      },
      "outputs": [
        {
          "output_type": "stream",
          "name": "stdout",
          "text": [
            "/\n"
          ]
        }
      ],
      "source": [
        "cd .."
      ]
    },
    {
      "cell_type": "code",
      "execution_count": null,
      "metadata": {
        "id": "xBss2yWg5aNV",
        "colab": {
          "base_uri": "https://localhost:8080/"
        },
        "outputId": "aa712e12-0d24-4120-cdae-860df6acd39f"
      },
      "outputs": [
        {
          "output_type": "stream",
          "name": "stdout",
          "text": [
            "/content/drive/MyDrive/MedIx REU/Datasets\n"
          ]
        }
      ],
      "source": [
        "cd content/drive/MyDrive/MedIx\\ REU/Datasets"
      ]
    },
    {
      "cell_type": "code",
      "execution_count": null,
      "metadata": {
        "id": "EOM6ZwEeZAAT"
      },
      "outputs": [],
      "source": [
        "from __future__ import absolute_import\n",
        "from __future__ import print_function\n",
        "import tensorflow as tf\n",
        "import numpy as np  # linear alg\n",
        "import pandas as pd  # data processing, CSV file I/O (e.g. pd.read_csv)\n",
        "import random\n",
        "import keras\n",
        "import matplotlib.pyplot as plt\n",
        "from keras.models import Model\n",
        "from keras.layers import Input, Flatten, Dense, Dropout, Lambda\n",
        "from keras import backend as K\n",
        "from sklearn.neighbors import KNeighborsClassifier\n",
        "from sklearn.metrics import accuracy_score, silhouette_score, silhouette_samples, homogeneity_completeness_v_measure\n",
        "from sklearn.cluster import KMeans\n",
        "from sklearn.preprocessing import normalize, MinMaxScaler\n",
        "from keras.layers.convolutional import Conv2D\n",
        "from keras.layers.pooling import MaxPooling2D, AveragePooling2D\n",
        "from sklearn.manifold import TSNE\n",
        "from sklearn.cluster import DBSCAN, SpectralClustering, AgglomerativeClustering\n",
        "import os\n",
        "from os import path\n",
        "#from s_dbw import S_Dbw, SD"
      ]
    },
    {
      "cell_type": "code",
      "source": [
        "from sklearn.preprocessing import StandardScaler\n",
        "\n",
        "class KMeans:\n",
        "    def __init__(self, n_clusters=8, max_iter=1000):\n",
        "        self.n_clusters = n_clusters\n",
        "        self.max_iter = max_iter\n",
        "    def fit(self, X_train):\n",
        "        # Initialize the centroids, using the \"k-means++\" method, where a random datapoint is selected as the first,\n",
        "        # then the rest are initialized w/ probabilities proportional to their distances to the first\n",
        "        # Pick a random point from train data for first centroid\n",
        "        self.centroids = [random.choice(X_train)]\n",
        "        for _ in range(self.n_clusters-1):\n",
        "            # Calculate distances from points to the centroids\n",
        "            dists = np.sum([self.euclidean(centroid, X_train) for centroid in self.centroids], axis=0)\n",
        "            # Normalize the distances\n",
        "            dists /= np.sum(dists)\n",
        "            # Choose remaining points based on their distances\n",
        "            new_centroid_idx, = np.random.choice(range(len(X_train)), size=1, p=dists)\n",
        "            self.centroids += [X_train[new_centroid_idx]]\n",
        "        # This initial method of randomly selecting centroid starts is less effective\n",
        "        # min_, max_ = np.min(X_train, axis=0), np.max(X_train, axis=0)\n",
        "        # self.centroids = [uniform(min_, max_) for _ in range(self.n_clusters)]\n",
        "        # Iterate, adjusting centroids until converged or until passed max_iter\n",
        "        iteration = 0\n",
        "        prev_centroids = None\n",
        "        while np.not_equal(self.centroids, prev_centroids).any() and iteration < self.max_iter:\n",
        "            # Sort each datapoint, assigning to nearest centroid\n",
        "            sorted_points = [[] for _ in range(self.n_clusters)]\n",
        "            for x in X_train:\n",
        "                dists = self.euclidean(x, self.centroids)\n",
        "                centroid_idx = np.argmin(dists)\n",
        "                sorted_points[centroid_idx].append(x)\n",
        "            # Push current centroids to previous, reassign centroids as mean of the points belonging to them\n",
        "            prev_centroids = self.centroids\n",
        "            self.centroids = [np.mean(cluster, axis=0) for cluster in sorted_points]\n",
        "            for i, centroid in enumerate(self.centroids):\n",
        "                if np.isnan(centroid).any():  # Catch any np.nans, resulting from a centroid having no points\n",
        "                    self.centroids[i] = prev_centroids[i]\n",
        "            iteration += 1\n",
        "    def evaluate(self, X):\n",
        "        centroids = []\n",
        "        centroid_idxs = []\n",
        "        for x in X:\n",
        "            dists = self.euclidean(x, self.centroids)\n",
        "            centroid_idx = np.argmin(dists)\n",
        "            centroids.append(self.centroids[centroid_idx])\n",
        "            centroid_idxs.append(centroid_idx)\n",
        "        return centroids, centroid_idxs\n",
        "\n",
        "    def euclidean(self, point, data):\n",
        "        \"\"\"\n",
        "        Euclidean distance between point & data.\n",
        "        Point has dimensions (m,), data has dimensions (n,m), and output will be of size (n,).\n",
        "        \"\"\"\n",
        "        return np.sqrt(np.sum((point - data)**2, axis=1))"
      ],
      "metadata": {
        "id": "g6OPlsdH0CgZ"
      },
      "execution_count": null,
      "outputs": []
    },
    {
      "cell_type": "code",
      "execution_count": null,
      "metadata": {
        "id": "U6Y50Yu9cZuN",
        "colab": {
          "base_uri": "https://localhost:8080/"
        },
        "outputId": "51571afb-01c1-4e84-cd02-196c4de78f59"
      },
      "outputs": [
        {
          "output_type": "stream",
          "name": "stderr",
          "text": [
            "WARNING:tensorflow:No training configuration found in save file, so the model was *not* compiled. Compile it manually.\n"
          ]
        }
      ],
      "source": [
        "##### Import Trained Model #####\n",
        "model = keras.models.load_model(\"/content/drive/MyDrive/MedIx REU/Datasets/Amal/Autoencoder/spic_files/enc_VAE_my_model_299_Spic\" , compile = True)"
      ]
    },
    {
      "cell_type": "code",
      "source": [
        "model.summary()"
      ],
      "metadata": {
        "colab": {
          "base_uri": "https://localhost:8080/"
        },
        "id": "Ya1E8PfrToqa",
        "outputId": "8568228b-074e-4f88-8f8c-b7fee7875712"
      },
      "execution_count": null,
      "outputs": [
        {
          "output_type": "stream",
          "name": "stdout",
          "text": [
            "Model: \"Encoder\"\n",
            "__________________________________________________________________________________________________\n",
            " Layer (type)                   Output Shape         Param #     Connected to                     \n",
            "==================================================================================================\n",
            " input_layer (InputLayer)       [(None, 72, 72, 1)]  0           []                               \n",
            "                                                                                                  \n",
            " conv_1 (Conv2D)                (None, 72, 72, 32)   320         ['input_layer[0][0]']            \n",
            "                                                                                                  \n",
            " bn_1 (BatchNormalization)      (None, 72, 72, 32)   128         ['conv_1[0][0]']                 \n",
            "                                                                                                  \n",
            " lrelu_1 (LeakyReLU)            (None, 72, 72, 32)   0           ['bn_1[0][0]']                   \n",
            "                                                                                                  \n",
            " conv_2 (Conv2D)                (None, 36, 36, 64)   18496       ['lrelu_1[0][0]']                \n",
            "                                                                                                  \n",
            " bn_2 (BatchNormalization)      (None, 36, 36, 64)   256         ['conv_2[0][0]']                 \n",
            "                                                                                                  \n",
            " lrelu_2 (LeakyReLU)            (None, 36, 36, 64)   0           ['bn_2[0][0]']                   \n",
            "                                                                                                  \n",
            " conv_3 (Conv2D)                (None, 18, 18, 64)   36928       ['lrelu_2[0][0]']                \n",
            "                                                                                                  \n",
            " bn_3 (BatchNormalization)      (None, 18, 18, 64)   256         ['conv_3[0][0]']                 \n",
            "                                                                                                  \n",
            " lrelu_3 (LeakyReLU)            (None, 18, 18, 64)   0           ['bn_3[0][0]']                   \n",
            "                                                                                                  \n",
            " conv_4 (Conv2D)                (None, 18, 18, 64)   36928       ['lrelu_3[0][0]']                \n",
            "                                                                                                  \n",
            " bn_4 (BatchNormalization)      (None, 18, 18, 64)   256         ['conv_4[0][0]']                 \n",
            "                                                                                                  \n",
            " lrelu_4 (LeakyReLU)            (None, 18, 18, 64)   0           ['bn_4[0][0]']                   \n",
            "                                                                                                  \n",
            " flatten (Flatten)              (None, 20736)        0           ['lrelu_4[0][0]']                \n",
            "                                                                                                  \n",
            " mean (Dense)                   (None, 70)           1451590     ['flatten[0][0]']                \n",
            "                                                                                                  \n",
            " log_var (Dense)                (None, 70)           1451590     ['flatten[0][0]']                \n",
            "                                                                                                  \n",
            "==================================================================================================\n",
            "Total params: 2,996,748\n",
            "Trainable params: 2,996,300\n",
            "Non-trainable params: 448\n",
            "__________________________________________________________________________________________________\n"
          ]
        }
      ]
    },
    {
      "cell_type": "code",
      "source": [
        "feature_extractor = keras.Model(\n",
        "    inputs=model.inputs,\n",
        "    outputs=model.get_layer(name=\"flatten\").output)\n",
        "feature_extractor.summary()"
      ],
      "metadata": {
        "id": "qadXKD35UUu_",
        "colab": {
          "base_uri": "https://localhost:8080/"
        },
        "outputId": "2fb5e3ee-f625-459d-9449-8cb22f45afa5"
      },
      "execution_count": null,
      "outputs": [
        {
          "output_type": "stream",
          "name": "stdout",
          "text": [
            "Model: \"model\"\n",
            "_________________________________________________________________\n",
            " Layer (type)                Output Shape              Param #   \n",
            "=================================================================\n",
            " input_layer (InputLayer)    [(None, 72, 72, 1)]       0         \n",
            "                                                                 \n",
            " conv_1 (Conv2D)             (None, 72, 72, 32)        320       \n",
            "                                                                 \n",
            " bn_1 (BatchNormalization)   (None, 72, 72, 32)        128       \n",
            "                                                                 \n",
            " lrelu_1 (LeakyReLU)         (None, 72, 72, 32)        0         \n",
            "                                                                 \n",
            " conv_2 (Conv2D)             (None, 36, 36, 64)        18496     \n",
            "                                                                 \n",
            " bn_2 (BatchNormalization)   (None, 36, 36, 64)        256       \n",
            "                                                                 \n",
            " lrelu_2 (LeakyReLU)         (None, 36, 36, 64)        0         \n",
            "                                                                 \n",
            " conv_3 (Conv2D)             (None, 18, 18, 64)        36928     \n",
            "                                                                 \n",
            " bn_3 (BatchNormalization)   (None, 18, 18, 64)        256       \n",
            "                                                                 \n",
            " lrelu_3 (LeakyReLU)         (None, 18, 18, 64)        0         \n",
            "                                                                 \n",
            " conv_4 (Conv2D)             (None, 18, 18, 64)        36928     \n",
            "                                                                 \n",
            " bn_4 (BatchNormalization)   (None, 18, 18, 64)        256       \n",
            "                                                                 \n",
            " lrelu_4 (LeakyReLU)         (None, 18, 18, 64)        0         \n",
            "                                                                 \n",
            " flatten (Flatten)           (None, 20736)             0         \n",
            "                                                                 \n",
            "=================================================================\n",
            "Total params: 93,568\n",
            "Trainable params: 93,120\n",
            "Non-trainable params: 448\n",
            "_________________________________________________________________\n"
          ]
        }
      ]
    },
    {
      "cell_type": "code",
      "source": [
        "def getNormed(this_array, this_min = 0, this_max = 255, set_to_int = True):\n",
        "    new_var = this_array.copy()\n",
        "    rat = (this_max - this_min)/(new_var.max() - new_var.min())\n",
        "    new_var = new_var * rat\n",
        "    new_var -= new_var.min()\n",
        "    new_var += this_min\n",
        "    if set_to_int:\n",
        "        return new_var.astype('uint8')\n",
        "    return new_var"
      ],
      "metadata": {
        "id": "PBI_nzzF-1S_"
      },
      "execution_count": null,
      "outputs": []
    },
    {
      "cell_type": "code",
      "source": [
        "def getSamePadding(this_array):\n",
        "    # Array to be added as row\n",
        "    row_to_be_added = this_array[70]\n",
        "    # Adding row to numpy array\n",
        "    result = np.vstack ((this_array, row_to_be_added) )\n",
        "\n",
        "    # Array to be added as column\n",
        "    column = this_array[:, 70]\n",
        "    last_item = this_array[70, 70]\n",
        "\n",
        "    # Adding column to numpy array\n",
        "    column_to_be_added = np.append(column, last_item)\n",
        "\n",
        "    # stack column to numpy array\n",
        "    new_img = np.column_stack((result, column_to_be_added))\n",
        "    return new_img"
      ],
      "metadata": {
        "id": "mEpdErdYBGwL"
      },
      "execution_count": null,
      "outputs": []
    },
    {
      "cell_type": "code",
      "source": [
        "total = pd.read_csv(\"/content/drive/MyDrive/MedIx REU/Datasets/Amal/CNN/Spiculation/Agreement_Binary_Rating.csv\")\n",
        "total_nod = total['noduleID']\n",
        "total_nod = np.array(total_nod)\n",
        "\n",
        "image_folder = '/content/drive/MyDrive/MedIx REU/Datasets/Amal/images_1332'\n",
        "train_images = []\n",
        "train_noduleId = []\n",
        "print(image_folder)\n",
        "\n",
        "for dir1 in os.listdir(image_folder):\n",
        "    print(dir1)\n",
        "    if not dir1.startswith('.'):\n",
        "        for file in os.listdir(os.path.join(image_folder, dir1)):\n",
        "            #print(file)\n",
        "            noduleID = file.split('.')[0]\n",
        "            if not file.startswith('.'):\n",
        "                noduleID = int(noduleID)\n",
        "                train_noduleId.append(noduleID)\n",
        "                temp_image = np.loadtxt(os.path.join(image_folder, dir1,file))\n",
        "                temp_image = getNormed(temp_image)\n",
        "                enlarged_img = getSamePadding(temp_image)\n",
        "                train_images.append(enlarged_img)"
      ],
      "metadata": {
        "colab": {
          "base_uri": "https://localhost:8080/"
        },
        "id": "Tfg7pZw6-1ao",
        "outputId": "14f69fc0-888a-49aa-b3c3-f6f13c2032c7"
      },
      "execution_count": null,
      "outputs": [
        {
          "output_type": "stream",
          "name": "stdout",
          "text": [
            "/content/drive/MyDrive/MedIx REU/Datasets/Amal/images_1332\n",
            "Malignancy_5\n",
            "Malignancy_1\n",
            "Malignancy_4\n",
            "Malignancy_2\n",
            "Malignancy_3\n"
          ]
        }
      ]
    },
    {
      "cell_type": "code",
      "source": [
        "tr_df = pd.DataFrame(train_noduleId,columns =['noduleID'])\n",
        "print(tr_df)"
      ],
      "metadata": {
        "colab": {
          "base_uri": "https://localhost:8080/"
        },
        "id": "g0H2-jaZ_LHV",
        "outputId": "2967e34b-8e91-442b-dee0-8ff127215c6f"
      },
      "execution_count": null,
      "outputs": [
        {
          "output_type": "stream",
          "name": "stdout",
          "text": [
            "      noduleID\n",
            "0          324\n",
            "1         1888\n",
            "2         1606\n",
            "3         1427\n",
            "4         1760\n",
            "...        ...\n",
            "1327      2301\n",
            "1328      2583\n",
            "1329      1772\n",
            "1330       231\n",
            "1331      2540\n",
            "\n",
            "[1332 rows x 1 columns]\n"
          ]
        }
      ]
    },
    {
      "cell_type": "code",
      "source": [
        "train_slices = pd.merge(tr_df, total)\n",
        "display(train_slices)"
      ],
      "metadata": {
        "colab": {
          "base_uri": "https://localhost:8080/",
          "height": 674
        },
        "id": "22BLzySy_L1H",
        "outputId": "4c8bd4c8-9eab-4a41-d166-62ff6d3ad789"
      },
      "execution_count": null,
      "outputs": [
        {
          "output_type": "display_data",
          "data": {
            "text/plain": [
              "      noduleID  InstanceID  noduleID.1  Binary Rating  \\\n",
              "0          324        4732         324              2   \n",
              "1         1888       28743        1888              2   \n",
              "2         1606       24119        1606              2   \n",
              "3         1427       21366        1427              1   \n",
              "4         1760       26447        1760              1   \n",
              "...        ...         ...         ...            ...   \n",
              "1327      2301       35200        2301              0   \n",
              "1328      2583       39596        2583              0   \n",
              "1329      1772       26626        1772              2   \n",
              "1330       231        3308         231              1   \n",
              "1331      2540       38933        2540              2   \n",
              "\n",
              "                    Agreement_name  Agreement  old Binary Rating  \\\n",
              "0      Low Radiologiests Agreement          1                  0   \n",
              "1      Low Radiologiests Agreement          1                  2   \n",
              "2      Low Radiologiests Agreement          1                  0   \n",
              "3     High Radiologiests Agreement          2                  0   \n",
              "4     Full Radiologiests Agreement          3                  2   \n",
              "...                            ...        ...                ...   \n",
              "1327  High Radiologiests Agreement          2                  2   \n",
              "1328  High Radiologiests Agreement          2                  2   \n",
              "1329   Low Radiologiests Agreement          1                  2   \n",
              "1330  High Radiologiests Agreement          2                  0   \n",
              "1331   Low Radiologiests Agreement          1                  2   \n",
              "\n",
              "     old_Binary_Rating_name  old_Agreement          old_Agreement_name  \\\n",
              "0            Not Spiculated              2  High Radiologist Agreement   \n",
              "1                   Unknown              1   Low Radiologist Agreement   \n",
              "2            Not Spiculated              3   All Radiologist Agreement   \n",
              "3            Not Spiculated              3   All Radiologist Agreement   \n",
              "4                   Unknown              1   Low Radiologist Agreement   \n",
              "...                     ...            ...                         ...   \n",
              "1327                Unknown              0    No Radiologist Agreement   \n",
              "1328                Unknown              1   Low Radiologist Agreement   \n",
              "1329                Unknown              1   Low Radiologist Agreement   \n",
              "1330         Not Spiculated              2  High Radiologist Agreement   \n",
              "1331                Unknown              1   Low Radiologist Agreement   \n",
              "\n",
              "      old_Two_Agreement old_Two_Agreement_name  \n",
              "0                     1              Full_High  \n",
              "1                     0                 Low_No  \n",
              "2                     1              Full_High  \n",
              "3                     1              Full_High  \n",
              "4                     0                 Low_No  \n",
              "...                 ...                    ...  \n",
              "1327                  0                 Low_No  \n",
              "1328                  0                 Low_No  \n",
              "1329                  0                 Low_No  \n",
              "1330                  1              Full_High  \n",
              "1331                  0                 Low_No  \n",
              "\n",
              "[1332 rows x 12 columns]"
            ],
            "text/html": [
              "\n",
              "  <div id=\"df-ca5ea0f1-ee04-425c-9806-036a0ad82220\">\n",
              "    <div class=\"colab-df-container\">\n",
              "      <div>\n",
              "<style scoped>\n",
              "    .dataframe tbody tr th:only-of-type {\n",
              "        vertical-align: middle;\n",
              "    }\n",
              "\n",
              "    .dataframe tbody tr th {\n",
              "        vertical-align: top;\n",
              "    }\n",
              "\n",
              "    .dataframe thead th {\n",
              "        text-align: right;\n",
              "    }\n",
              "</style>\n",
              "<table border=\"1\" class=\"dataframe\">\n",
              "  <thead>\n",
              "    <tr style=\"text-align: right;\">\n",
              "      <th></th>\n",
              "      <th>noduleID</th>\n",
              "      <th>InstanceID</th>\n",
              "      <th>noduleID.1</th>\n",
              "      <th>Binary Rating</th>\n",
              "      <th>Agreement_name</th>\n",
              "      <th>Agreement</th>\n",
              "      <th>old Binary Rating</th>\n",
              "      <th>old_Binary_Rating_name</th>\n",
              "      <th>old_Agreement</th>\n",
              "      <th>old_Agreement_name</th>\n",
              "      <th>old_Two_Agreement</th>\n",
              "      <th>old_Two_Agreement_name</th>\n",
              "    </tr>\n",
              "  </thead>\n",
              "  <tbody>\n",
              "    <tr>\n",
              "      <th>0</th>\n",
              "      <td>324</td>\n",
              "      <td>4732</td>\n",
              "      <td>324</td>\n",
              "      <td>2</td>\n",
              "      <td>Low Radiologiests Agreement</td>\n",
              "      <td>1</td>\n",
              "      <td>0</td>\n",
              "      <td>Not Spiculated</td>\n",
              "      <td>2</td>\n",
              "      <td>High Radiologist Agreement</td>\n",
              "      <td>1</td>\n",
              "      <td>Full_High</td>\n",
              "    </tr>\n",
              "    <tr>\n",
              "      <th>1</th>\n",
              "      <td>1888</td>\n",
              "      <td>28743</td>\n",
              "      <td>1888</td>\n",
              "      <td>2</td>\n",
              "      <td>Low Radiologiests Agreement</td>\n",
              "      <td>1</td>\n",
              "      <td>2</td>\n",
              "      <td>Unknown</td>\n",
              "      <td>1</td>\n",
              "      <td>Low Radiologist Agreement</td>\n",
              "      <td>0</td>\n",
              "      <td>Low_No</td>\n",
              "    </tr>\n",
              "    <tr>\n",
              "      <th>2</th>\n",
              "      <td>1606</td>\n",
              "      <td>24119</td>\n",
              "      <td>1606</td>\n",
              "      <td>2</td>\n",
              "      <td>Low Radiologiests Agreement</td>\n",
              "      <td>1</td>\n",
              "      <td>0</td>\n",
              "      <td>Not Spiculated</td>\n",
              "      <td>3</td>\n",
              "      <td>All Radiologist Agreement</td>\n",
              "      <td>1</td>\n",
              "      <td>Full_High</td>\n",
              "    </tr>\n",
              "    <tr>\n",
              "      <th>3</th>\n",
              "      <td>1427</td>\n",
              "      <td>21366</td>\n",
              "      <td>1427</td>\n",
              "      <td>1</td>\n",
              "      <td>High Radiologiests Agreement</td>\n",
              "      <td>2</td>\n",
              "      <td>0</td>\n",
              "      <td>Not Spiculated</td>\n",
              "      <td>3</td>\n",
              "      <td>All Radiologist Agreement</td>\n",
              "      <td>1</td>\n",
              "      <td>Full_High</td>\n",
              "    </tr>\n",
              "    <tr>\n",
              "      <th>4</th>\n",
              "      <td>1760</td>\n",
              "      <td>26447</td>\n",
              "      <td>1760</td>\n",
              "      <td>1</td>\n",
              "      <td>Full Radiologiests Agreement</td>\n",
              "      <td>3</td>\n",
              "      <td>2</td>\n",
              "      <td>Unknown</td>\n",
              "      <td>1</td>\n",
              "      <td>Low Radiologist Agreement</td>\n",
              "      <td>0</td>\n",
              "      <td>Low_No</td>\n",
              "    </tr>\n",
              "    <tr>\n",
              "      <th>...</th>\n",
              "      <td>...</td>\n",
              "      <td>...</td>\n",
              "      <td>...</td>\n",
              "      <td>...</td>\n",
              "      <td>...</td>\n",
              "      <td>...</td>\n",
              "      <td>...</td>\n",
              "      <td>...</td>\n",
              "      <td>...</td>\n",
              "      <td>...</td>\n",
              "      <td>...</td>\n",
              "      <td>...</td>\n",
              "    </tr>\n",
              "    <tr>\n",
              "      <th>1327</th>\n",
              "      <td>2301</td>\n",
              "      <td>35200</td>\n",
              "      <td>2301</td>\n",
              "      <td>0</td>\n",
              "      <td>High Radiologiests Agreement</td>\n",
              "      <td>2</td>\n",
              "      <td>2</td>\n",
              "      <td>Unknown</td>\n",
              "      <td>0</td>\n",
              "      <td>No Radiologist Agreement</td>\n",
              "      <td>0</td>\n",
              "      <td>Low_No</td>\n",
              "    </tr>\n",
              "    <tr>\n",
              "      <th>1328</th>\n",
              "      <td>2583</td>\n",
              "      <td>39596</td>\n",
              "      <td>2583</td>\n",
              "      <td>0</td>\n",
              "      <td>High Radiologiests Agreement</td>\n",
              "      <td>2</td>\n",
              "      <td>2</td>\n",
              "      <td>Unknown</td>\n",
              "      <td>1</td>\n",
              "      <td>Low Radiologist Agreement</td>\n",
              "      <td>0</td>\n",
              "      <td>Low_No</td>\n",
              "    </tr>\n",
              "    <tr>\n",
              "      <th>1329</th>\n",
              "      <td>1772</td>\n",
              "      <td>26626</td>\n",
              "      <td>1772</td>\n",
              "      <td>2</td>\n",
              "      <td>Low Radiologiests Agreement</td>\n",
              "      <td>1</td>\n",
              "      <td>2</td>\n",
              "      <td>Unknown</td>\n",
              "      <td>1</td>\n",
              "      <td>Low Radiologist Agreement</td>\n",
              "      <td>0</td>\n",
              "      <td>Low_No</td>\n",
              "    </tr>\n",
              "    <tr>\n",
              "      <th>1330</th>\n",
              "      <td>231</td>\n",
              "      <td>3308</td>\n",
              "      <td>231</td>\n",
              "      <td>1</td>\n",
              "      <td>High Radiologiests Agreement</td>\n",
              "      <td>2</td>\n",
              "      <td>0</td>\n",
              "      <td>Not Spiculated</td>\n",
              "      <td>2</td>\n",
              "      <td>High Radiologist Agreement</td>\n",
              "      <td>1</td>\n",
              "      <td>Full_High</td>\n",
              "    </tr>\n",
              "    <tr>\n",
              "      <th>1331</th>\n",
              "      <td>2540</td>\n",
              "      <td>38933</td>\n",
              "      <td>2540</td>\n",
              "      <td>2</td>\n",
              "      <td>Low Radiologiests Agreement</td>\n",
              "      <td>1</td>\n",
              "      <td>2</td>\n",
              "      <td>Unknown</td>\n",
              "      <td>1</td>\n",
              "      <td>Low Radiologist Agreement</td>\n",
              "      <td>0</td>\n",
              "      <td>Low_No</td>\n",
              "    </tr>\n",
              "  </tbody>\n",
              "</table>\n",
              "<p>1332 rows × 12 columns</p>\n",
              "</div>\n",
              "      <button class=\"colab-df-convert\" onclick=\"convertToInteractive('df-ca5ea0f1-ee04-425c-9806-036a0ad82220')\"\n",
              "              title=\"Convert this dataframe to an interactive table.\"\n",
              "              style=\"display:none;\">\n",
              "        \n",
              "  <svg xmlns=\"http://www.w3.org/2000/svg\" height=\"24px\"viewBox=\"0 0 24 24\"\n",
              "       width=\"24px\">\n",
              "    <path d=\"M0 0h24v24H0V0z\" fill=\"none\"/>\n",
              "    <path d=\"M18.56 5.44l.94 2.06.94-2.06 2.06-.94-2.06-.94-.94-2.06-.94 2.06-2.06.94zm-11 1L8.5 8.5l.94-2.06 2.06-.94-2.06-.94L8.5 2.5l-.94 2.06-2.06.94zm10 10l.94 2.06.94-2.06 2.06-.94-2.06-.94-.94-2.06-.94 2.06-2.06.94z\"/><path d=\"M17.41 7.96l-1.37-1.37c-.4-.4-.92-.59-1.43-.59-.52 0-1.04.2-1.43.59L10.3 9.45l-7.72 7.72c-.78.78-.78 2.05 0 2.83L4 21.41c.39.39.9.59 1.41.59.51 0 1.02-.2 1.41-.59l7.78-7.78 2.81-2.81c.8-.78.8-2.07 0-2.86zM5.41 20L4 18.59l7.72-7.72 1.47 1.35L5.41 20z\"/>\n",
              "  </svg>\n",
              "      </button>\n",
              "      \n",
              "  <style>\n",
              "    .colab-df-container {\n",
              "      display:flex;\n",
              "      flex-wrap:wrap;\n",
              "      gap: 12px;\n",
              "    }\n",
              "\n",
              "    .colab-df-convert {\n",
              "      background-color: #E8F0FE;\n",
              "      border: none;\n",
              "      border-radius: 50%;\n",
              "      cursor: pointer;\n",
              "      display: none;\n",
              "      fill: #1967D2;\n",
              "      height: 32px;\n",
              "      padding: 0 0 0 0;\n",
              "      width: 32px;\n",
              "    }\n",
              "\n",
              "    .colab-df-convert:hover {\n",
              "      background-color: #E2EBFA;\n",
              "      box-shadow: 0px 1px 2px rgba(60, 64, 67, 0.3), 0px 1px 3px 1px rgba(60, 64, 67, 0.15);\n",
              "      fill: #174EA6;\n",
              "    }\n",
              "\n",
              "    [theme=dark] .colab-df-convert {\n",
              "      background-color: #3B4455;\n",
              "      fill: #D2E3FC;\n",
              "    }\n",
              "\n",
              "    [theme=dark] .colab-df-convert:hover {\n",
              "      background-color: #434B5C;\n",
              "      box-shadow: 0px 1px 3px 1px rgba(0, 0, 0, 0.15);\n",
              "      filter: drop-shadow(0px 1px 2px rgba(0, 0, 0, 0.3));\n",
              "      fill: #FFFFFF;\n",
              "    }\n",
              "  </style>\n",
              "\n",
              "      <script>\n",
              "        const buttonEl =\n",
              "          document.querySelector('#df-ca5ea0f1-ee04-425c-9806-036a0ad82220 button.colab-df-convert');\n",
              "        buttonEl.style.display =\n",
              "          google.colab.kernel.accessAllowed ? 'block' : 'none';\n",
              "\n",
              "        async function convertToInteractive(key) {\n",
              "          const element = document.querySelector('#df-ca5ea0f1-ee04-425c-9806-036a0ad82220');\n",
              "          const dataTable =\n",
              "            await google.colab.kernel.invokeFunction('convertToInteractive',\n",
              "                                                     [key], {});\n",
              "          if (!dataTable) return;\n",
              "\n",
              "          const docLinkHtml = 'Like what you see? Visit the ' +\n",
              "            '<a target=\"_blank\" href=https://colab.research.google.com/notebooks/data_table.ipynb>data table notebook</a>'\n",
              "            + ' to learn more about interactive tables.';\n",
              "          element.innerHTML = '';\n",
              "          dataTable['output_type'] = 'display_data';\n",
              "          await google.colab.output.renderOutput(dataTable, element);\n",
              "          const docLink = document.createElement('div');\n",
              "          docLink.innerHTML = docLinkHtml;\n",
              "          element.appendChild(docLink);\n",
              "        }\n",
              "      </script>\n",
              "    </div>\n",
              "  </div>\n",
              "  "
            ]
          },
          "metadata": {}
        }
      ]
    },
    {
      "cell_type": "code",
      "source": [
        "train_ids = train_slices[\"Binary Rating\"]"
      ],
      "metadata": {
        "id": "M1mzHWHD_NzI"
      },
      "execution_count": null,
      "outputs": []
    },
    {
      "cell_type": "code",
      "execution_count": null,
      "metadata": {
        "id": "8lWm0Z80dha7",
        "colab": {
          "base_uri": "https://localhost:8080/"
        },
        "outputId": "a4761dd2-d510-4bf6-e2d0-abff90aa53d8"
      },
      "outputs": [
        {
          "output_type": "stream",
          "name": "stdout",
          "text": [
            "42/42 [==============================] - 9s 6ms/step\n"
          ]
        }
      ],
      "source": [
        "##### Run all data (testing, training, and validation) to retrieve embeddings and plot tsne #####                               USE THIS ONE! :)\n",
        "\n",
        "total_data = np.array(train_images).reshape(-1,72,72,1)\n",
        "#print(total_data.shape)\n",
        "\n",
        "total_embeddings_before = feature_extractor.predict(total_data)\n",
        "total_embeddings2 = (total_embeddings_before - total_embeddings_before.min()) / (total_embeddings_before.max() - total_embeddings_before.min())\n",
        "tot_embedded2 = TSNE(n_components=2,random_state=2).fit_transform(total_embeddings2)"
      ]
    },
    {
      "cell_type": "code",
      "source": [
        "np.any(np.isnan(total_embeddings2))"
      ],
      "metadata": {
        "id": "LKFzSMM4BcJy",
        "colab": {
          "base_uri": "https://localhost:8080/"
        },
        "outputId": "e286ff11-a041-43e4-bc14-d1e12307664a"
      },
      "execution_count": null,
      "outputs": [
        {
          "output_type": "execute_result",
          "data": {
            "text/plain": [
              "False"
            ]
          },
          "metadata": {},
          "execution_count": 16
        }
      ]
    },
    {
      "cell_type": "code",
      "source": [
        "# Fit centroids to dataset\n",
        "centers = 1\n",
        "kmeans = KMeans(n_clusters=centers)\n",
        "kmeans.fit(total_embeddings2)\n",
        "#centroid = kmeans.evaluate(df_feature)\n",
        "centroid = kmeans.centroids"
      ],
      "metadata": {
        "id": "nmGN-BLCz2pR"
      },
      "execution_count": null,
      "outputs": []
    },
    {
      "cell_type": "code",
      "source": [
        "dist = kmeans.euclidean(centroid, total_embeddings2)"
      ],
      "metadata": {
        "id": "E_vOZzX40LhF"
      },
      "execution_count": null,
      "outputs": []
    },
    {
      "cell_type": "code",
      "source": [
        "df_distance = pd.DataFrame()\n",
        "df_distance['InstanceID'] = train_slices['InstanceID']\n",
        "df_distance['Agreement'] = train_slices['Agreement_name']\n",
        "df_distance['Distance'] = dist\n",
        "df_distance['Spiculation'] = train_ids\n",
        "display(df_distance)"
      ],
      "metadata": {
        "colab": {
          "base_uri": "https://localhost:8080/",
          "height": 411
        },
        "id": "Gowid0Fw0Oxe",
        "outputId": "220c5ac7-de19-4385-a0d5-a1acdba08ee7"
      },
      "execution_count": null,
      "outputs": [
        {
          "output_type": "display_data",
          "data": {
            "text/plain": [
              "      InstanceID                     Agreement  Distance  Spiculation\n",
              "0           4732   Low Radiologiests Agreement  5.436087            2\n",
              "1          28743   Low Radiologiests Agreement  7.274587            2\n",
              "2          24119   Low Radiologiests Agreement  5.584279            2\n",
              "3          21366  High Radiologiests Agreement  5.419829            1\n",
              "4          26447  Full Radiologiests Agreement  6.915697            1\n",
              "...          ...                           ...       ...          ...\n",
              "1327       35200  High Radiologiests Agreement  5.246740            0\n",
              "1328       39596  High Radiologiests Agreement  7.453985            0\n",
              "1329       26626   Low Radiologiests Agreement  5.947716            2\n",
              "1330        3308  High Radiologiests Agreement  5.300139            1\n",
              "1331       38933   Low Radiologiests Agreement  4.957421            2\n",
              "\n",
              "[1332 rows x 4 columns]"
            ],
            "text/html": [
              "\n",
              "  <div id=\"df-bc3a415a-4d34-4bf9-bf29-229fbbde5430\">\n",
              "    <div class=\"colab-df-container\">\n",
              "      <div>\n",
              "<style scoped>\n",
              "    .dataframe tbody tr th:only-of-type {\n",
              "        vertical-align: middle;\n",
              "    }\n",
              "\n",
              "    .dataframe tbody tr th {\n",
              "        vertical-align: top;\n",
              "    }\n",
              "\n",
              "    .dataframe thead th {\n",
              "        text-align: right;\n",
              "    }\n",
              "</style>\n",
              "<table border=\"1\" class=\"dataframe\">\n",
              "  <thead>\n",
              "    <tr style=\"text-align: right;\">\n",
              "      <th></th>\n",
              "      <th>InstanceID</th>\n",
              "      <th>Agreement</th>\n",
              "      <th>Distance</th>\n",
              "      <th>Spiculation</th>\n",
              "    </tr>\n",
              "  </thead>\n",
              "  <tbody>\n",
              "    <tr>\n",
              "      <th>0</th>\n",
              "      <td>4732</td>\n",
              "      <td>Low Radiologiests Agreement</td>\n",
              "      <td>5.436087</td>\n",
              "      <td>2</td>\n",
              "    </tr>\n",
              "    <tr>\n",
              "      <th>1</th>\n",
              "      <td>28743</td>\n",
              "      <td>Low Radiologiests Agreement</td>\n",
              "      <td>7.274587</td>\n",
              "      <td>2</td>\n",
              "    </tr>\n",
              "    <tr>\n",
              "      <th>2</th>\n",
              "      <td>24119</td>\n",
              "      <td>Low Radiologiests Agreement</td>\n",
              "      <td>5.584279</td>\n",
              "      <td>2</td>\n",
              "    </tr>\n",
              "    <tr>\n",
              "      <th>3</th>\n",
              "      <td>21366</td>\n",
              "      <td>High Radiologiests Agreement</td>\n",
              "      <td>5.419829</td>\n",
              "      <td>1</td>\n",
              "    </tr>\n",
              "    <tr>\n",
              "      <th>4</th>\n",
              "      <td>26447</td>\n",
              "      <td>Full Radiologiests Agreement</td>\n",
              "      <td>6.915697</td>\n",
              "      <td>1</td>\n",
              "    </tr>\n",
              "    <tr>\n",
              "      <th>...</th>\n",
              "      <td>...</td>\n",
              "      <td>...</td>\n",
              "      <td>...</td>\n",
              "      <td>...</td>\n",
              "    </tr>\n",
              "    <tr>\n",
              "      <th>1327</th>\n",
              "      <td>35200</td>\n",
              "      <td>High Radiologiests Agreement</td>\n",
              "      <td>5.246740</td>\n",
              "      <td>0</td>\n",
              "    </tr>\n",
              "    <tr>\n",
              "      <th>1328</th>\n",
              "      <td>39596</td>\n",
              "      <td>High Radiologiests Agreement</td>\n",
              "      <td>7.453985</td>\n",
              "      <td>0</td>\n",
              "    </tr>\n",
              "    <tr>\n",
              "      <th>1329</th>\n",
              "      <td>26626</td>\n",
              "      <td>Low Radiologiests Agreement</td>\n",
              "      <td>5.947716</td>\n",
              "      <td>2</td>\n",
              "    </tr>\n",
              "    <tr>\n",
              "      <th>1330</th>\n",
              "      <td>3308</td>\n",
              "      <td>High Radiologiests Agreement</td>\n",
              "      <td>5.300139</td>\n",
              "      <td>1</td>\n",
              "    </tr>\n",
              "    <tr>\n",
              "      <th>1331</th>\n",
              "      <td>38933</td>\n",
              "      <td>Low Radiologiests Agreement</td>\n",
              "      <td>4.957421</td>\n",
              "      <td>2</td>\n",
              "    </tr>\n",
              "  </tbody>\n",
              "</table>\n",
              "<p>1332 rows × 4 columns</p>\n",
              "</div>\n",
              "      <button class=\"colab-df-convert\" onclick=\"convertToInteractive('df-bc3a415a-4d34-4bf9-bf29-229fbbde5430')\"\n",
              "              title=\"Convert this dataframe to an interactive table.\"\n",
              "              style=\"display:none;\">\n",
              "        \n",
              "  <svg xmlns=\"http://www.w3.org/2000/svg\" height=\"24px\"viewBox=\"0 0 24 24\"\n",
              "       width=\"24px\">\n",
              "    <path d=\"M0 0h24v24H0V0z\" fill=\"none\"/>\n",
              "    <path d=\"M18.56 5.44l.94 2.06.94-2.06 2.06-.94-2.06-.94-.94-2.06-.94 2.06-2.06.94zm-11 1L8.5 8.5l.94-2.06 2.06-.94-2.06-.94L8.5 2.5l-.94 2.06-2.06.94zm10 10l.94 2.06.94-2.06 2.06-.94-2.06-.94-.94-2.06-.94 2.06-2.06.94z\"/><path d=\"M17.41 7.96l-1.37-1.37c-.4-.4-.92-.59-1.43-.59-.52 0-1.04.2-1.43.59L10.3 9.45l-7.72 7.72c-.78.78-.78 2.05 0 2.83L4 21.41c.39.39.9.59 1.41.59.51 0 1.02-.2 1.41-.59l7.78-7.78 2.81-2.81c.8-.78.8-2.07 0-2.86zM5.41 20L4 18.59l7.72-7.72 1.47 1.35L5.41 20z\"/>\n",
              "  </svg>\n",
              "      </button>\n",
              "      \n",
              "  <style>\n",
              "    .colab-df-container {\n",
              "      display:flex;\n",
              "      flex-wrap:wrap;\n",
              "      gap: 12px;\n",
              "    }\n",
              "\n",
              "    .colab-df-convert {\n",
              "      background-color: #E8F0FE;\n",
              "      border: none;\n",
              "      border-radius: 50%;\n",
              "      cursor: pointer;\n",
              "      display: none;\n",
              "      fill: #1967D2;\n",
              "      height: 32px;\n",
              "      padding: 0 0 0 0;\n",
              "      width: 32px;\n",
              "    }\n",
              "\n",
              "    .colab-df-convert:hover {\n",
              "      background-color: #E2EBFA;\n",
              "      box-shadow: 0px 1px 2px rgba(60, 64, 67, 0.3), 0px 1px 3px 1px rgba(60, 64, 67, 0.15);\n",
              "      fill: #174EA6;\n",
              "    }\n",
              "\n",
              "    [theme=dark] .colab-df-convert {\n",
              "      background-color: #3B4455;\n",
              "      fill: #D2E3FC;\n",
              "    }\n",
              "\n",
              "    [theme=dark] .colab-df-convert:hover {\n",
              "      background-color: #434B5C;\n",
              "      box-shadow: 0px 1px 3px 1px rgba(0, 0, 0, 0.15);\n",
              "      filter: drop-shadow(0px 1px 2px rgba(0, 0, 0, 0.3));\n",
              "      fill: #FFFFFF;\n",
              "    }\n",
              "  </style>\n",
              "\n",
              "      <script>\n",
              "        const buttonEl =\n",
              "          document.querySelector('#df-bc3a415a-4d34-4bf9-bf29-229fbbde5430 button.colab-df-convert');\n",
              "        buttonEl.style.display =\n",
              "          google.colab.kernel.accessAllowed ? 'block' : 'none';\n",
              "\n",
              "        async function convertToInteractive(key) {\n",
              "          const element = document.querySelector('#df-bc3a415a-4d34-4bf9-bf29-229fbbde5430');\n",
              "          const dataTable =\n",
              "            await google.colab.kernel.invokeFunction('convertToInteractive',\n",
              "                                                     [key], {});\n",
              "          if (!dataTable) return;\n",
              "\n",
              "          const docLinkHtml = 'Like what you see? Visit the ' +\n",
              "            '<a target=\"_blank\" href=https://colab.research.google.com/notebooks/data_table.ipynb>data table notebook</a>'\n",
              "            + ' to learn more about interactive tables.';\n",
              "          element.innerHTML = '';\n",
              "          dataTable['output_type'] = 'display_data';\n",
              "          await google.colab.output.renderOutput(dataTable, element);\n",
              "          const docLink = document.createElement('div');\n",
              "          docLink.innerHTML = docLinkHtml;\n",
              "          element.appendChild(docLink);\n",
              "        }\n",
              "      </script>\n",
              "    </div>\n",
              "  </div>\n",
              "  "
            ]
          },
          "metadata": {}
        }
      ]
    },
    {
      "cell_type": "code",
      "source": [
        "df_distance.to_csv(\"/content/drive/MyDrive/MedIx REU/Datasets/Amal/Autoencoder/spic_files/AE_spic_var_distance.csv\")"
      ],
      "metadata": {
        "id": "x9D49nR50Q83"
      },
      "execution_count": null,
      "outputs": []
    },
    {
      "cell_type": "code",
      "source": [
        "plt.rcParams[\"figure.figsize\"] = [9.50, 7.50]\n",
        "plt.rcParams[\"figure.autolayout\"] = True\n",
        "#df.plot(figsize=(20,20))\n",
        "\n",
        "axes = df_distance.boxplot(by='Agreement',column =['Distance'], showmeans=True, showfliers=True, grid= False)\n",
        "axes.set_title('')\n",
        "plt.title('')\n",
        "plt.suptitle('')\n",
        "#plt.ylim([0.0, 1.0])\n",
        "plt.ylabel(\"Distance from the Centroid\", fontdict={'fontsize':15})\n",
        "plt.xlabel(\"Agreement\", fontdict={'fontsize':15})\n",
        "#plt.xticks([0,1, 2, 3],['No Radiologist Agreement', 'Low Radiologist Agreement', 'High Radiologist Agreement', 'All Radiologists Agree'])\n",
        "plt.show()"
      ],
      "metadata": {
        "colab": {
          "base_uri": "https://localhost:8080/",
          "height": 741
        },
        "id": "lVZzNdkI0cJz",
        "outputId": "6f72ff20-a7fb-49f5-9ce6-19c97b29392d"
      },
      "execution_count": null,
      "outputs": [
        {
          "output_type": "display_data",
          "data": {
            "text/plain": [
              "<Figure size 950x750 with 1 Axes>"
            ],
            "image/png": "[encoded data removed]"
          },
          "metadata": {}
        }
      ]
    },
    {
      "cell_type": "code",
      "source": [
        "m1 = df_distance.groupby(['Agreement'])['Distance'].mean().values\n",
        "print(m1)"
      ],
      "metadata": {
        "colab": {
          "base_uri": "https://localhost:8080/"
        },
        "id": "35p5A1Q80fYf",
        "outputId": "4fbb8f75-227d-40d6-df81-deb2252f26b9"
      },
      "execution_count": null,
      "outputs": [
        {
          "output_type": "stream",
          "name": "stdout",
          "text": [
            "[5.6327147 5.6639166 5.850407  6.007773 ]\n"
          ]
        }
      ]
    },
    {
      "cell_type": "code",
      "source": [
        "m2 = df_distance.groupby(['Agreement'])['Distance'].median().values\n",
        "print(m2)"
      ],
      "metadata": {
        "colab": {
          "base_uri": "https://localhost:8080/"
        },
        "id": "fc5vQEJT0h39",
        "outputId": "03f3a8ad-c4b5-4ff6-81da-02a0b0b26b04"
      },
      "execution_count": null,
      "outputs": [
        {
          "output_type": "stream",
          "name": "stdout",
          "text": [
            "[5.496044  5.5456142 5.6529064 5.8337455]\n"
          ]
        }
      ]
    },
    {
      "cell_type": "code",
      "source": [
        "plt.rcParams[\"figure.figsize\"] = [9.50, 7.50]\n",
        "plt.rcParams[\"figure.autolayout\"] = True\n",
        "#df.plot(figsize=(20,20))\n",
        "\n",
        "axes = df_distance.boxplot(by='Spiculation',column =['Distance'], showmeans=True, showfliers=True, grid= False)\n",
        "axes.set_title('')\n",
        "plt.title('')\n",
        "plt.suptitle('')\n",
        "\n",
        "plt.ylabel(\"Uncertainty Scores\", fontdict={'fontsize':15})\n",
        "plt.xlabel(\"Malignancy\", fontdict={'fontsize':15})\n",
        "#plt.xticks([1, 2, 3,4], ['Not Malignant','Malignant', 'Indeterminate','Evaluation on low/No Agreement'])\n",
        "plt.show()"
      ],
      "metadata": {
        "colab": {
          "base_uri": "https://localhost:8080/",
          "height": 741
        },
        "id": "BHYTrDkGt9gM",
        "outputId": "66da74bb-17ab-4276-fd78-33fe6c419f45"
      },
      "execution_count": null,
      "outputs": [
        {
          "output_type": "display_data",
          "data": {
            "text/plain": [
              "<Figure size 950x750 with 1 Axes>"
            ],
            "image/png": "[encoded data removed]"
          },
          "metadata": {}
        }
      ]
    },
    {
      "cell_type": "code",
      "source": [
        "m1 = df_distance.groupby(['Spiculation'])['Distance'].mean().values\n",
        "print(m1)\n",
        "m2 = df_distance.groupby(['Spiculation'])['Distance'].median().values\n",
        "print(m2)"
      ],
      "metadata": {
        "colab": {
          "base_uri": "https://localhost:8080/"
        },
        "id": "0plMmy9DuAY6",
        "outputId": "2f98dcb9-34bb-4177-de6a-662eba501920"
      },
      "execution_count": null,
      "outputs": [
        {
          "output_type": "stream",
          "name": "stdout",
          "text": [
            "[5.6043506 6.3019543 5.871996 ]\n",
            "[5.5036273 6.196561  5.688896 ]\n"
          ]
        }
      ]
    }
  ],
  "metadata": {
    "accelerator": "GPU",
    "colab": {
      "machine_shape": "hm",
      "provenance": []
    },
    "kernelspec": {
      "display_name": "Python 3",
      "name": "python3"
    },
    "language_info": {
      "name": "python"
    }
  },
  "nbformat": 4,
  "nbformat_minor": 0
}