{
 "cells": [
  {
   "cell_type": "code",
   "execution_count": 1,
   "metadata": {
    "colab": {
     "base_uri": "https://localhost:8080/",
     "height": 339
    },
    "executionInfo": {
     "elapsed": 3,
     "status": "error",
     "timestamp": 1658717588446,
     "user": {
      "displayName": "Ian W.",
      "userId": "17896725064908185417"
     },
     "user_tz": 300
    },
    "id": "spJ7q9K10yum",
    "outputId": "4c44e729-f899-410e-9648-2ee0a5d48323"
   },
   "outputs": [],
   "source": [
    "import os\n",
    "from os import path\n",
    "import pandas as pd\n",
    "import time\n",
    "import keras\n",
    "import tensorflow as tf\n",
    "from tensorflow import keras\n",
    "from tensorflow.keras import backend as K\n",
    "from tensorflow.keras import layers\n",
    "import sklearn.model_selection as sk\n",
    "from IPython import display\n",
    "import matplotlib.pyplot as plt\n",
    "import numpy as np"
   ]
  },
  {
   "cell_type": "code",
   "execution_count": 2,
   "metadata": {},
   "outputs": [
    {
     "name": "stdout",
     "output_type": "stream",
     "text": [
      "Num GPUs Available:  1\n"
     ]
    }
   ],
   "source": [
    "print(\"Num GPUs Available: \", len(tf.config.list_physical_devices('GPU')))"
   ]
  },
  {
   "cell_type": "code",
   "execution_count": 3,
   "metadata": {},
   "outputs": [],
   "source": [
    "physical_devices = tf.config.list_physical_devices('GPU') \n",
    "for device in physical_devices:\n",
    "    tf.config.experimental.set_memory_growth(device, True)"
   ]
  },
  {
   "cell_type": "code",
   "execution_count": 4,
   "metadata": {},
   "outputs": [],
   "source": [
    "def getNormed(this_array, this_min = 0, this_max = 255, set_to_int = True):\n",
    "    new_var = this_array.copy()\n",
    "    rat = (this_max - this_min)/(new_var.max() - new_var.min())\n",
    "    new_var = new_var * rat\n",
    "    new_var -= new_var.min()\n",
    "    new_var += this_min\n",
    "    if set_to_int:\n",
    "        return new_var.astype('uint8')\n",
    "    return new_var"
   ]
  },
  {
   "cell_type": "code",
   "execution_count": 5,
   "metadata": {},
   "outputs": [],
   "source": [
    "def getNormed1(this_array, set_to_int = True):\n",
    "    std_dev = np.std(this_array)\n",
    "    mean = np.mean(this_array)\n",
    "    normalised_input = (this_array - mean) / std_dev\n",
    "    if set_to_int:\n",
    "        return normalised_input.astype('uint8')\n",
    "    return normalised_input"
   ]
  },
  {
   "cell_type": "code",
   "execution_count": 6,
   "metadata": {},
   "outputs": [],
   "source": [
    "def getSamePadding(this_array):\n",
    "    # Array to be added as row\n",
    "    row_to_be_added = this_array[70]\n",
    "    # Adding row to numpy array\n",
    "    result = np.vstack ((this_array, row_to_be_added) )\n",
    "    \n",
    "    # Array to be added as column\n",
    "    column = this_array[:, 70]\n",
    "    last_item = this_array[70, 70]\n",
    "    \n",
    "    # Adding column to numpy array\n",
    "    column_to_be_added = np.append(column, last_item)\n",
    "    \n",
    "    # stack column to numpy array\n",
    "    new_img = np.column_stack((result, column_to_be_added))\n",
    "    return new_img"
   ]
  },
  {
   "cell_type": "code",
   "execution_count": 7,
   "metadata": {},
   "outputs": [],
   "source": [
    "train = pd.read_csv(r'\\Users\\aalmans8\\Documents\\VAE\\Train.csv')\n",
    "test = pd.read_csv(r'\\Users\\aalmans8\\Documents\\VAE\\Test.csv')"
   ]
  },
  {
   "cell_type": "code",
   "execution_count": 8,
   "metadata": {},
   "outputs": [
    {
     "data": {
      "text/plain": [
       "145"
      ]
     },
     "execution_count": 8,
     "metadata": {},
     "output_type": "execute_result"
    }
   ],
   "source": [
    "len(test)"
   ]
  },
  {
   "cell_type": "code",
   "execution_count": 9,
   "metadata": {},
   "outputs": [],
   "source": [
    "train_ids = train['noduleID']\n",
    "test_ids = test['noduleID']"
   ]
  },
  {
   "cell_type": "code",
   "execution_count": 10,
   "metadata": {},
   "outputs": [],
   "source": [
    "train_ids = np.array(train_ids)\n",
    "test_ids = np.array(test_ids)"
   ]
  },
  {
   "cell_type": "code",
   "execution_count": 11,
   "metadata": {},
   "outputs": [
    {
     "name": "stdout",
     "output_type": "stream",
     "text": [
      "\\Users\\aalmans8\\Documents\\VAE\\images_1332\n",
      ".DS_Store\n",
      "Malignancy_1\n",
      "Malignancy_2\n",
      "Malignancy_3\n",
      "Malignancy_4\n",
      "Malignancy_5\n"
     ]
    }
   ],
   "source": [
    "# collect all images for training\n",
    "image_folder = r'\\Users\\aalmans8\\Documents\\VAE\\images_1332'\n",
    "train_images = []\n",
    "test_images = []\n",
    "noduleID_array = []\n",
    "print(image_folder)\n",
    "\n",
    "for dir1 in os.listdir(image_folder):\n",
    "    print(dir1)\n",
    "    if not dir1.startswith('.'):\n",
    "        for file in os.listdir(os.path.join(image_folder, dir1)):\n",
    "            #print(file)\n",
    "            noduleID = file.split('.')[0]\n",
    "            if not file.startswith('.'):\n",
    "                noduleID = int(noduleID)\n",
    "                #if noduleID in train_ids:\n",
    "                noduleID_array.append(noduleID)\n",
    "                temp_image = np.loadtxt(os.path.join(image_folder, dir1,file))\n",
    "                temp_image = getNormed(temp_image)\n",
    "                #temp_image = getNormed1(temp_image)\n",
    "                enlarged_img = getSamePadding(temp_image)\n",
    "                train_images.append(enlarged_img)\n",
    "            \n",
    "                ''' if noduleID in test_ids:\n",
    "                    noduleID_array.append(noduleID)\n",
    "                    temp_image = np.loadtxt(os.path.join(image_folder, dir1,file))\n",
    "                    temp_image = getNormed(temp_image)\n",
    "                    enlarged_img = getSamePadding(temp_image)\n",
    "                    test_images.append(enlarged_img) '''"
   ]
  },
  {
   "cell_type": "code",
   "execution_count": 12,
   "metadata": {},
   "outputs": [
    {
     "data": {
      "text/plain": [
       "1332"
      ]
     },
     "execution_count": 12,
     "metadata": {},
     "output_type": "execute_result"
    }
   ],
   "source": [
    "len(train_images)"
   ]
  },
  {
   "cell_type": "code",
   "execution_count": 13,
   "metadata": {},
   "outputs": [],
   "source": [
    "#len(test_images)"
   ]
  },
  {
   "cell_type": "code",
   "execution_count": 14,
   "metadata": {},
   "outputs": [],
   "source": [
    "train_images = np.array(train_images)\n",
    "#test_images = np.array(test_images)"
   ]
  },
  {
   "cell_type": "code",
   "execution_count": 15,
   "metadata": {},
   "outputs": [],
   "source": [
    "x_train, x_test, y_train, y_test = sk.train_test_split(train_images,noduleID_array,test_size=0.2, random_state = 42)"
   ]
  },
  {
   "cell_type": "code",
   "execution_count": 16,
   "metadata": {},
   "outputs": [],
   "source": [
    "#x_train = train_images.reshape(train_images.shape[0], 72, 72, 1).astype(\"float32\")\n",
    "#x_test = test_images.reshape(test_images.shape[0], 72, 72, 1).astype(\"float32\")"
   ]
  },
  {
   "cell_type": "code",
   "execution_count": 17,
   "metadata": {},
   "outputs": [],
   "source": [
    "#len(x_train)"
   ]
  },
  {
   "cell_type": "code",
   "execution_count": 18,
   "metadata": {
    "executionInfo": {
     "elapsed": 2420,
     "status": "ok",
     "timestamp": 1658716926337,
     "user": {
      "displayName": "Ian W.",
      "userId": "17896725064908185417"
     },
     "user_tz": 300
    },
    "id": "dqS2rLfvQeYG"
   },
   "outputs": [],
   "source": [
    "train_dataset = tf.data.Dataset.from_tensor_slices(x_train).\\\n",
    "shuffle(6000).batch(1)# batch 128 gives similar results"
   ]
  },
  {
   "cell_type": "code",
   "execution_count": 19,
   "metadata": {},
   "outputs": [],
   "source": [
    "#test_dataset = tf.data.Dataset.from_tensor_slices(x_test).batch(1)"
   ]
  },
  {
   "cell_type": "code",
   "execution_count": 20,
   "metadata": {},
   "outputs": [],
   "source": [
    "#tf.data.experimental.enable_debug_mode()"
   ]
  },
  {
   "cell_type": "code",
   "execution_count": 21,
   "metadata": {
    "executionInfo": {
     "elapsed": 429,
     "status": "ok",
     "timestamp": 1658716927376,
     "user": {
      "displayName": "Ian W.",
      "userId": "17896725064908185417"
     },
     "user_tz": 300
    },
    "id": "00C05cIpQeoK"
   },
   "outputs": [],
   "source": [
    "normalization_layer = layers.experimental.preprocessing.Rescaling(scale=1./127.5, offset=-1)\n",
    "normalized_ds = train_dataset.map(lambda x: normalization_layer(x))\n",
    "image_batch = next(iter(normalized_ds))\n",
    "first_image = image_batch[0]"
   ]
  },
  {
   "cell_type": "code",
   "execution_count": 22,
   "metadata": {},
   "outputs": [],
   "source": [
    "#t_normalized_ds = test_dataset.map(lambda x: normalization_layer(x))\n",
    "#t_image_batch = next(iter(t_normalized_ds))"
   ]
  },
  {
   "cell_type": "code",
   "execution_count": 23,
   "metadata": {
    "executionInfo": {
     "elapsed": 6,
     "status": "ok",
     "timestamp": 1658716927377,
     "user": {
      "displayName": "Ian W.",
      "userId": "17896725064908185417"
     },
     "user_tz": 300
    },
    "id": "L4JOaFNiQeq5"
   },
   "outputs": [],
   "source": [
    "input_encoder = (72, 72, 1)\n",
    "input_decoder = (70,)"
   ]
  },
  {
   "cell_type": "code",
   "execution_count": 24,
   "metadata": {
    "executionInfo": {
     "elapsed": 5,
     "status": "ok",
     "timestamp": 1658718585954,
     "user": {
      "displayName": "Ian W.",
      "userId": "17896725064908185417"
     },
     "user_tz": 300
    },
    "id": "T9WmaAgnRHk8"
   },
   "outputs": [],
   "source": [
    "def sampling(input_1,input_2):\n",
    "    #input1 = layers.Lambda(sampling_model, name='encoder_output')([mean, var])\n",
    "    mean = keras.Input(shape=input_1, name='input_layer1')\n",
    "    log_var = keras.Input(shape=input_2, name='input_layer2')\n",
    "    out = layers.Lambda(sampling_model, name='encoder_output')([mean, log_var])\n",
    "    enc_2 = tf.keras.Model([mean,log_var], out,  name=\"Encoder_2\")\n",
    "    # print(enc_2.summary())\n",
    "    return enc_2"
   ]
  },
  {
   "cell_type": "code",
   "execution_count": 25,
   "metadata": {
    "executionInfo": {
     "elapsed": 5,
     "status": "ok",
     "timestamp": 1658716927377,
     "user": {
      "displayName": "Ian W.",
      "userId": "17896725064908185417"
     },
     "user_tz": 300
    },
    "id": "JMwpknmIOr4h"
   },
   "outputs": [],
   "source": [
    "def sampling_model(distribution_params):\n",
    "    mean, log_var = distribution_params\n",
    "    #epsilon = K.random_normal(shape=K.shape(mean), mean=0., stddev=1.)\n",
    "    epsilon = K.random_normal(shape=K.shape(mean))\n",
    "    # print(epsilon)\n",
    "    z = mean + K.exp(log_var / 2) * epsilon\n",
    "    return z"
   ]
  },
  {
   "cell_type": "code",
   "execution_count": 26,
   "metadata": {
    "executionInfo": {
     "elapsed": 5,
     "status": "ok",
     "timestamp": 1658716927377,
     "user": {
      "displayName": "Ian W.",
      "userId": "17896725064908185417"
     },
     "user_tz": 300
    },
    "id": "gMGwKYLARBAa"
   },
   "outputs": [],
   "source": [
    "def encoder(input_encoder):\n",
    "    \n",
    "    inputs = keras.Input(shape=input_encoder, name='input_layer')\n",
    "    x = layers.Conv2D(32, kernel_size=3, strides= 1, padding='same', name='conv_1')(inputs)\n",
    "    x = layers.BatchNormalization(name='bn_1')(x)\n",
    "    x = layers.LeakyReLU(name='lrelu_1')(x)\n",
    "    \n",
    "    \n",
    "    x = layers.Conv2D(64, kernel_size=3, strides= 2, padding='same', name='conv_2')(x)\n",
    "    x = layers.BatchNormalization(name='bn_2')(x)\n",
    "    x = layers.LeakyReLU(name='lrelu_2')(x)\n",
    "    print(x.shape)\n",
    "    \n",
    "    \n",
    "    x = layers.Conv2D(64, 3, 2, padding='same', name='conv_3')(x)\n",
    "    x = layers.BatchNormalization(name='bn_3')(x)\n",
    "    x = layers.LeakyReLU(name='lrelu_3')(x)\n",
    "    #print(x.shape)\n",
    "  \n",
    "\n",
    "    x = layers.Conv2D(64, 3, 1, padding='same', name='conv_4')(x)\n",
    "    x = layers.BatchNormalization(name='bn_4')(x)\n",
    "    x = layers.LeakyReLU(name='lrelu_4')(x)\n",
    "    print(x.shape)\n",
    "    \n",
    "    flatten = layers.Flatten()(x)\n",
    "    mean = layers.Dense(70, name='mean')(flatten)\n",
    "    log_var = layers.Dense(70, name='log_var')(flatten)\n",
    "    model = tf.keras.Model(inputs, (mean, log_var), name=\"Encoder\")\n",
    "    return model"
   ]
  },
  {
   "cell_type": "code",
   "execution_count": 27,
   "metadata": {
    "colab": {
     "base_uri": "https://localhost:8080/"
    },
    "executionInfo": {
     "elapsed": 210,
     "status": "ok",
     "timestamp": 1658718584363,
     "user": {
      "displayName": "Ian W.",
      "userId": "17896725064908185417"
     },
     "user_tz": 300
    },
    "id": "tedJYUhcRDQ0",
    "outputId": "ca2c34c9-a4c7-4218-ed18-a1cdf1274326"
   },
   "outputs": [
    {
     "name": "stdout",
     "output_type": "stream",
     "text": [
      "(None, 36, 36, 64)\n",
      "(None, 18, 18, 64)\n"
     ]
    },
    {
     "data": {
      "text/plain": [
       "(<KerasTensor: shape=(None, 70) dtype=float32 (created by layer 'mean')>,\n",
       " <KerasTensor: shape=(None, 70) dtype=float32 (created by layer 'log_var')>)"
      ]
     },
     "execution_count": 27,
     "metadata": {},
     "output_type": "execute_result"
    }
   ],
   "source": [
    "enc = encoder(input_encoder)\n",
    "enc.output"
   ]
  },
  {
   "cell_type": "code",
   "execution_count": 28,
   "metadata": {
    "executionInfo": {
     "elapsed": 1,
     "status": "ok",
     "timestamp": 1658718585281,
     "user": {
      "displayName": "Ian W.",
      "userId": "17896725064908185417"
     },
     "user_tz": 300
    },
    "id": "KQqqb72YRFW4"
   },
   "outputs": [],
   "source": [
    "input_1 = (70,)\n",
    "input_2 = (70,)"
   ]
  },
  {
   "cell_type": "code",
   "execution_count": 29,
   "metadata": {
    "executionInfo": {
     "elapsed": 4,
     "status": "ok",
     "timestamp": 1658718586557,
     "user": {
      "displayName": "Ian W.",
      "userId": "17896725064908185417"
     },
     "user_tz": 300
    },
    "id": "2fkhyOC8RJwi"
   },
   "outputs": [],
   "source": [
    "final = sampling(input_1,input_2)"
   ]
  },
  {
   "cell_type": "code",
   "execution_count": 30,
   "metadata": {
    "executionInfo": {
     "elapsed": 3,
     "status": "ok",
     "timestamp": 1658718587097,
     "user": {
      "displayName": "Ian W.",
      "userId": "17896725064908185417"
     },
     "user_tz": 300
    },
    "id": "ZZ98WWxoRLdi"
   },
   "outputs": [],
   "source": [
    "def decoder(input_decoder):\n",
    "    \n",
    "    inputs = keras.Input(shape=input_decoder, name='input_layer')\n",
    "    x = layers.Dense(20736, name='dense_1')(inputs)\n",
    "    x = layers.Reshape((18, 18, 64), name='Reshape_Layer')(x)\n",
    "   \n",
    "    # Block-1\n",
    "    x = layers.Conv2DTranspose(64, 3, strides= 1, padding='same',name='conv_transpose_1')(x)\n",
    "    x = layers.BatchNormalization(name='bn_1')(x)\n",
    "    x = layers.LeakyReLU(name='lrelu_1')(x)\n",
    "  \n",
    "    # Block-2\n",
    "    x = layers.Conv2DTranspose(64, 3, strides= 2, padding='same', name='conv_transpose_2')(x)\n",
    "    x = layers.BatchNormalization(name='bn_2')(x)\n",
    "    x = layers.LeakyReLU(name='lrelu_2')(x)\n",
    "    print(x.shape)\n",
    "    \n",
    "    # Block-3\n",
    "    x = layers.Conv2DTranspose(32, 3, 2, padding='same', name='conv_transpose_3')(x)\n",
    "    x = layers.BatchNormalization(name='bn_3')(x)\n",
    "    x = layers.LeakyReLU(name='lrelu_3')(x)\n",
    "    \n",
    "    # Block-4\n",
    "    outputs = layers.Conv2DTranspose(1, 3, 1,padding='same', activation='tanh', name='conv_transpose_4')(x)\n",
    "    model = tf.keras.Model(inputs, outputs, name=\"Decoder\")\n",
    "    return model"
   ]
  },
  {
   "cell_type": "code",
   "execution_count": 31,
   "metadata": {
    "colab": {
     "base_uri": "https://localhost:8080/"
    },
    "executionInfo": {
     "elapsed": 207,
     "status": "ok",
     "timestamp": 1658718587986,
     "user": {
      "displayName": "Ian W.",
      "userId": "17896725064908185417"
     },
     "user_tz": 300
    },
    "id": "mfDswRnIRNWR",
    "outputId": "c000569b-f81a-4410-8763-c11eaea9c554"
   },
   "outputs": [
    {
     "name": "stdout",
     "output_type": "stream",
     "text": [
      "(None, 36, 36, 64)\n"
     ]
    }
   ],
   "source": [
    "dec = decoder(input_decoder)"
   ]
  },
  {
   "cell_type": "code",
   "execution_count": 32,
   "metadata": {},
   "outputs": [
    {
     "name": "stdout",
     "output_type": "stream",
     "text": [
      "Model: \"Decoder\"\n",
      "_________________________________________________________________\n",
      "Layer (type)                 Output Shape              Param #   \n",
      "=================================================================\n",
      "input_layer (InputLayer)     [(None, 70)]              0         \n",
      "_________________________________________________________________\n",
      "dense_1 (Dense)              (None, 20736)             1472256   \n",
      "_________________________________________________________________\n",
      "Reshape_Layer (Reshape)      (None, 18, 18, 64)        0         \n",
      "_________________________________________________________________\n",
      "conv_transpose_1 (Conv2DTran (None, 18, 18, 64)        36928     \n",
      "_________________________________________________________________\n",
      "bn_1 (BatchNormalization)    (None, 18, 18, 64)        256       \n",
      "_________________________________________________________________\n",
      "lrelu_1 (LeakyReLU)          (None, 18, 18, 64)        0         \n",
      "_________________________________________________________________\n",
      "conv_transpose_2 (Conv2DTran (None, 36, 36, 64)        36928     \n",
      "_________________________________________________________________\n",
      "bn_2 (BatchNormalization)    (None, 36, 36, 64)        256       \n",
      "_________________________________________________________________\n",
      "lrelu_2 (LeakyReLU)          (None, 36, 36, 64)        0         \n",
      "_________________________________________________________________\n",
      "conv_transpose_3 (Conv2DTran (None, 72, 72, 32)        18464     \n",
      "_________________________________________________________________\n",
      "bn_3 (BatchNormalization)    (None, 72, 72, 32)        128       \n",
      "_________________________________________________________________\n",
      "lrelu_3 (LeakyReLU)          (None, 72, 72, 32)        0         \n",
      "_________________________________________________________________\n",
      "conv_transpose_4 (Conv2DTran (None, 72, 72, 1)         289       \n",
      "=================================================================\n",
      "Total params: 1,565,505\n",
      "Trainable params: 1,565,185\n",
      "Non-trainable params: 320\n",
      "_________________________________________________________________\n"
     ]
    }
   ],
   "source": [
    "dec.summary()"
   ]
  },
  {
   "cell_type": "code",
   "execution_count": 33,
   "metadata": {
    "colab": {
     "base_uri": "https://localhost:8080/"
    },
    "executionInfo": {
     "elapsed": 2,
     "status": "ok",
     "timestamp": 1658718588379,
     "user": {
      "displayName": "Ian W.",
      "userId": "17896725064908185417"
     },
     "user_tz": 300
    },
    "id": "Df1lfM7VRPCm",
    "outputId": "c3ac5ef8-f8e7-468a-b92d-ce00a204d1f4"
   },
   "outputs": [],
   "source": [
    "optimizer = tf.keras.optimizers.Adam(learning_rate = 1e-5) #0.0005"
   ]
  },
  {
   "cell_type": "code",
   "execution_count": 34,
   "metadata": {
    "executionInfo": {
     "elapsed": 1,
     "status": "ok",
     "timestamp": 1658718588770,
     "user": {
      "displayName": "Ian W.",
      "userId": "17896725064908185417"
     },
     "user_tz": 300
    },
    "id": "qQngjmReRQ1u"
   },
   "outputs": [],
   "source": [
    "sigma_lst = []\n",
    "def mse_loss(y_true, y_pred):\n",
    "    #r_loss = K.mean(K.square(y_true - y_pred), axis = [1,2,3])\n",
    "    #log_sigma = K.log(K.mean(K.square((y_true - y_pred), [1,2,3])))\n",
    "    \n",
    "    #Sigma VAE:\n",
    "    log_sigma = K.log(K.sqrt(K.mean((y_true - y_pred) ** 2,[0, 1, 2, 3], keepdims=True)))\n",
    "    sigma_lst.append(log_sigma)\n",
    "    r_loss = K.sum(gaussian_nll(y_pred, log_sigma, y_true))\n",
    "    print('r_loss', K.eval(r_loss))\n",
    "    return r_loss\n",
    "\n",
    "def kl_loss_fun(mean, log_var):\n",
    "    kl_loss =  -0.5 * K.sum(1 + log_var - K.square(mean) - K.exp(log_var), axis = 1)\n",
    "    #kl_loss = -K.sum(0.5 * (1 + log_var - mean ** 2 - K.exp(log_var)))\n",
    "    \n",
    "    return kl_loss\n",
    "    \n",
    "def vae_loss(y_true, y_pred, mean, log_var):\n",
    "    r_loss = mse_loss(y_true, y_pred)\n",
    "    kl_loss = kl_loss_fun(mean, log_var)\n",
    "    return  r_loss + kl_loss\n",
    "\n",
    "def gaussian_nll(mu, log_sigma, x): # Gaussian negative log-likelihood\n",
    "    return 0.5 * ((x - mu) / K.exp(log_sigma)) ** 2 + log_sigma + 0.5 * np.log(2 * np.pi)"
   ]
  },
  {
   "cell_type": "code",
   "execution_count": null,
   "metadata": {},
   "outputs": [],
   "source": [
    "def mse_loss(y_true, y_pred):\n",
    "    r_loss = K.mean(K.square(y_true - y_pred), axis = [1,2,3])\n",
    "    return 1000*r_loss\n",
    "\n",
    "def kl_loss_fun(mean, log_var):\n",
    "    kl_loss =  -0.5 * K.sum(1 + log_var - K.square(mean) - K.exp(log_var), axis = 1)\n",
    "    return kl_loss\n",
    "    \n",
    "def vae_loss(y_true, y_pred, mean, log_var):\n",
    "    r_loss = mse_loss(y_true, y_pred)\n",
    "    kl_loss = kl_loss_fun(mean, log_var)\n",
    "    \n",
    "    return  r_loss + kl_loss"
   ]
  },
  {
   "cell_type": "code",
   "execution_count": 35,
   "metadata": {
    "executionInfo": {
     "elapsed": 262,
     "status": "ok",
     "timestamp": 1658718589848,
     "user": {
      "displayName": "Ian W.",
      "userId": "17896725064908185417"
     },
     "user_tz": 300
    },
    "id": "rgKk1KQtRSsW"
   },
   "outputs": [],
   "source": [
    "# Notice the use of `tf.function`\n",
    "# This annotation causes the function to be \"compiled\".\n",
    "@tf.function\n",
    "def train_step(images):\n",
    "\n",
    "    with tf.GradientTape() as encoder, tf.GradientTape() as decoder:\n",
    "      \n",
    "        mean, log_var = enc(images, training=True)\n",
    "        \n",
    "        #print(enc.weights[0][0][0])\n",
    "        latent = final([mean, log_var])\n",
    "        generated_images = dec(latent, training=True)\n",
    "        loss = vae_loss(images, generated_images, mean, log_var)\n",
    "\n",
    "        \n",
    "    gradients_of_enc = encoder.gradient(loss, enc.trainable_variables)\n",
    "    gradients_of_dec = decoder.gradient(loss, dec.trainable_variables)\n",
    "    \n",
    "    \n",
    "    optimizer.apply_gradients(zip(gradients_of_enc, enc.trainable_variables))\n",
    "    optimizer.apply_gradients(zip(gradients_of_dec, dec.trainable_variables))\n",
    "    return loss"
   ]
  },
  {
   "cell_type": "code",
   "execution_count": 36,
   "metadata": {},
   "outputs": [],
   "source": [
    "# Notice the use of `tf.function`\n",
    "# This annotation causes the function to be \"compiled\".\n",
    "@tf.function\n",
    "def test_step(images):\n",
    "\n",
    "    with tf.GradientTape() as encoder, tf.GradientTape() as decoder:\n",
    "      \n",
    "        mean, log_var = enc(images, training=False)\n",
    "        \n",
    "        #print(enc.weights[0][0][0])\n",
    "        latent = final([mean, log_var])\n",
    "        generated_images = dec(latent, training=False)\n",
    "        t_loss = vae_loss(images, generated_images, mean, log_var)\n",
    "        \n",
    "    return t_loss"
   ]
  },
  {
   "cell_type": "code",
   "execution_count": 37,
   "metadata": {
    "executionInfo": {
     "elapsed": 2,
     "status": "ok",
     "timestamp": 1658718590820,
     "user": {
      "displayName": "Ian W.",
      "userId": "17896725064908185417"
     },
     "user_tz": 300
    },
    "id": "QsriijgBRUnO"
   },
   "outputs": [],
   "source": [
    "os.makedirs(r'\\Users\\aalmans8\\Documents\\Spic_Optimal_Sigma_VAE\\Results\\training_weights', exist_ok=True)\n",
    "os.makedirs(r'\\Users\\aalmans8\\Documents\\Spic_Optimal_Sigma_VAE\\Results\\images', exist_ok=True)"
   ]
  },
  {
   "cell_type": "code",
   "execution_count": 38,
   "metadata": {
    "executionInfo": {
     "elapsed": 2,
     "status": "ok",
     "timestamp": 1658718591486,
     "user": {
      "displayName": "Ian W.",
      "userId": "17896725064908185417"
     },
     "user_tz": 300
    },
    "id": "J4AMOgVI7sHR"
   },
   "outputs": [],
   "source": [
    "def generate_and_save_images(model, epoch, test_input):\n",
    "  # Notice `training` is set to False.\n",
    "  # This is so all layers run in inference mode (batchnorm).\n",
    "    m, v = enc(test_input, training=False)\n",
    "    latent = final([m,  v])\n",
    "    predictions = dec(latent, training=False)\n",
    "    print(predictions.shape)\n",
    "    fig = plt.figure(figsize=(4,4))\n",
    "\n",
    "    for i in range(predictions.shape[0]):\n",
    "        plt.subplot(5, 5, i+1)\n",
    "        plt.imshow(np.array(predictions[i, :, :, 0])*127.5+(-1), cmap='gray')\n",
    "        plt.axis('off')\n",
    "\n",
    "    # plt.savefig('/content/drive/MyDrive/Colab Notebooks/VAE/images/image_at_epoch_{:d}.png'.format(epoch))\n",
    "    plt.show()"
   ]
  },
  {
   "cell_type": "code",
   "execution_count": 39,
   "metadata": {
    "executionInfo": {
     "elapsed": 2,
     "status": "ok",
     "timestamp": 1658718592224,
     "user": {
      "displayName": "Ian W.",
      "userId": "17896725064908185417"
     },
     "user_tz": 300
    },
    "id": "IyVhdBWqRXA-"
   },
   "outputs": [],
   "source": [
    "loss_=[]\n",
    "t_loss_ = []\n",
    "\n",
    "#def train(dataset, t_dataset ,epochs):\n",
    "def train(dataset,epochs):\n",
    "    epoch100 = 99\n",
    "    for epoch in range(epochs):\n",
    "        start = time.time()\n",
    "        i = 0 \n",
    "        #acc_loss = 0\n",
    "        for image_batch in dataset:\n",
    "            i += 1\n",
    "            loss = train_step(image_batch)\n",
    "            loss_.append(loss)\n",
    "\n",
    "        #print(\"Loss\",np.mean(loss_))    \n",
    "            seed = image_batch[:25]\n",
    "            display.clear_output(wait=True)\n",
    "            generate_and_save_images([enc,final,dec],\n",
    "                                      epoch + 1,\n",
    "                                       seed)\n",
    "            \n",
    "        #start = time.time()\n",
    "        #i = 0 \n",
    "        #acc_loss = 0\n",
    "        ''' for t_image_batch in t_dataset:\n",
    "            i += 1\n",
    "            test_loss = test_step(t_image_batch)\n",
    "            t_loss_.append(test_loss) '''\n",
    "            \n",
    "            \n",
    "        # Save the model every 15 epochs\n",
    "        #if (epoch + 1) % 15 == 0:\n",
    "        #checkpoint.save(file_prefix = checkpoint_prefix)\n",
    "       \n",
    "        enc.save_weights(r'\\Users\\aalmans8\\Documents\\Spic_Optimal_Sigma_VAE\\Results\\training_weights\\enc_'+ str(epoch)+'.h5')\n",
    "        dec.save_weights(r'\\Users\\aalmans8\\Documents\\Spic_Optimal_Sigma_VAE\\Results\\training_weights\\dec_'+ str(epoch)+'.h5')\n",
    "        print ('Time for epoch {} is {} sec'.format(epoch + 1, time.time()-start))\n",
    "        \n",
    "        if (epoch == epoch100):\n",
    "            epoch100 += 50\n",
    "            enc.save(r'\\Users\\aalmans8\\Documents\\Spic_Optimal_Sigma_VAE\\enc_VAE_my_model_'+str(epoch))\n",
    "            dec.save(r'\\Users\\aalmans8\\Documents\\Spic_Optimal_Sigma_VAE\\dec_VAE_my_model_'+str(epoch))\n",
    "        # Generate after the final epoch\n",
    "    # display.clear_output(wait=True)\n",
    "    # generate_and_save_images([enc,final,dec],\n",
    "    #                         epochs,\n",
    "    #                         seed)"
   ]
  },
  {
   "cell_type": "code",
   "execution_count": 40,
   "metadata": {},
   "outputs": [
    {
     "data": {
      "text/plain": [
       "'def test(dataset, epochs):\\n    #print(len(dataset))\\n    for epoch in range(epochs):\\n        start = time.time()\\n        i = 0 \\n        acc_loss = 0\\n        for t_image_batch in dataset:\\n            i += 1\\n            loss = test_step(t_image_batch)\\n            t_loss_.append(loss)\\n            \\n            seed = image_batch[:25]\\n            display.clear_output(wait=True)\\n            generate_and_save_images([enc,final,dec],\\n                                      epoch + 1,\\n                                       seed)\\n'"
      ]
     },
     "execution_count": 40,
     "metadata": {},
     "output_type": "execute_result"
    }
   ],
   "source": [
    "#t_loss_ = []\n",
    "'''def test(dataset, epochs):\n",
    "    #print(len(dataset))\n",
    "    for epoch in range(epochs):\n",
    "        start = time.time()\n",
    "        i = 0 \n",
    "        acc_loss = 0\n",
    "        for t_image_batch in dataset:\n",
    "            i += 1\n",
    "            loss = test_step(t_image_batch)\n",
    "            t_loss_.append(loss)\n",
    "            \n",
    "            seed = image_batch[:25]\n",
    "            display.clear_output(wait=True)\n",
    "            generate_and_save_images([enc,final,dec],\n",
    "                                      epoch + 1,\n",
    "                                       seed)\n",
    "'''"
   ]
  },
  {
   "cell_type": "markdown",
   "metadata": {},
   "source": [
    "# Reduce the number of epochs:"
   ]
  },
  {
   "cell_type": "code",
   "execution_count": 41,
   "metadata": {
    "colab": {
     "base_uri": "https://localhost:8080/"
    },
    "executionInfo": {
     "elapsed": 278287,
     "status": "ok",
     "timestamp": 1658720427238,
     "user": {
      "displayName": "Ian W.",
      "userId": "17896725064908185417"
     },
     "user_tz": 300
    },
    "id": "HdhSdjZaRZCW",
    "outputId": "cbbff8fe-70c8-463c-8ac9-66abbb49f592",
    "scrolled": true
   },
   "outputs": [
    {
     "name": "stdout",
     "output_type": "stream",
     "text": [
      "(1, 72, 72, 1)\n"
     ]
    },
    {
     "data": {
      "image/png": "[encoded data removed]",
      "text/plain": [
       "<Figure size 400x400 with 1 Axes>"
      ]
     },
     "metadata": {},
     "output_type": "display_data"
    },
    {
     "name": "stdout",
     "output_type": "stream",
     "text": [
      "Time for epoch 300 is 78.684490442276 sec\n",
      "WARNING:tensorflow:Compiled the loaded model, but the compiled metrics have yet to be built. `model.compile_metrics` will be empty until you train or evaluate the model.\n",
      "INFO:tensorflow:Assets written to: \\Users\\aalmans8\\Documents\\Spic_Optimal_Sigma_VAE\\enc_VAE_my_model_299\\assets\n",
      "WARNING:tensorflow:Compiled the loaded model, but the compiled metrics have yet to be built. `model.compile_metrics` will be empty until you train or evaluate the model.\n",
      "INFO:tensorflow:Assets written to: \\Users\\aalmans8\\Documents\\Spic_Optimal_Sigma_VAE\\dec_VAE_my_model_299\\assets\n"
     ]
    }
   ],
   "source": [
    "tf.config.run_functions_eagerly(True)\n",
    "train(normalized_ds, 300)"
   ]
  },
  {
   "cell_type": "code",
   "execution_count": 42,
   "metadata": {
    "scrolled": true
   },
   "outputs": [],
   "source": [
    "#test(t_normalized_ds, 500)"
   ]
  },
  {
   "cell_type": "code",
   "execution_count": 43,
   "metadata": {
    "colab": {
     "base_uri": "https://localhost:8080/"
    },
    "executionInfo": {
     "elapsed": 216,
     "status": "ok",
     "timestamp": 1658719185351,
     "user": {
      "displayName": "Ian W.",
      "userId": "17896725064908185417"
     },
     "user_tz": 300
    },
    "id": "8B7WdzMEP0Rp",
    "outputId": "48e91e2f-97ec-49a5-bb1c-247fa7ae8ecc"
   },
   "outputs": [
    {
     "data": {
      "text/plain": [
       "<tf.Tensor: shape=(1, 32), dtype=float32, numpy=\n",
       "array([[-0.05090982,  0.10398904,  0.08210614, -0.09956823,  0.03033668,\n",
       "        -0.04442488, -0.0780133 , -0.01607547, -0.0609476 , -0.06312167,\n",
       "         0.01528388,  0.0200591 ,  0.02951515, -0.02185507,  0.11453711,\n",
       "         0.04312564,  0.06681653, -0.14069076,  0.04028537, -0.10568304,\n",
       "        -0.04532218, -0.04684397,  0.11196326,  0.14898887,  0.07553938,\n",
       "         0.03913682,  0.08478604, -0.05999333,  0.07136074,  0.06900285,\n",
       "         0.06320805, -0.02856592]], dtype=float32)>"
      ]
     },
     "execution_count": 43,
     "metadata": {},
     "output_type": "execute_result"
    }
   ],
   "source": [
    "mean, log_var = enc(iter(normalized_ds).next(), training=False)\n",
    "latent = final([mean, log_var])\n",
    "generated_images = dec(latent, training=False)\n",
    "#sum(sum(sum((generated_images - iter(normalized_ds).next())**2)))\n",
    "enc.weights[0][1][1]\n",
    "#loss = vae_loss(images, generated_images, mean, log_var)\n",
    "#plt.imshow(getNormed(np.array(generated_images))[0, :, :, 0])\n",
    "#plt.gray()\n",
    "#plt.show()"
   ]
  },
  {
   "cell_type": "code",
   "execution_count": 44,
   "metadata": {},
   "outputs": [],
   "source": [
    "np.savetxt(r'\\Users\\aalmans8\\Documents\\Spic_Optimal_Sigma_VAE\\Results\\training_weights\\loss_.csv', loss_, fmt=\"%s\",delimiter=\",\",header=\"loss\")\n",
    "#np.savetxt(r'\\Users\\aalmans8\\Documents\\Spic_Optimal_Sigma_VAE\\Results\\training_weights\\t_loss_.csv', t_loss_, fmt=\"%s\",delimiter=\",\",header=\"loss\")"
   ]
  },
  {
   "cell_type": "code",
   "execution_count": 45,
   "metadata": {},
   "outputs": [],
   "source": [
    "loss_ = pd.read_csv(r'\\Users\\aalmans8\\Documents\\Spic_Optimal_Sigma_VAE\\Results\\training_weights\\loss_.csv')\n",
    "#t_loss_ = pd.read_csv(r'\\Users\\aalmans8\\Documents\\Spic_Optimal_Sigma_VAE\\Results\\training_weights\\t_loss_.csv')"
   ]
  },
  {
   "cell_type": "code",
   "execution_count": 46,
   "metadata": {},
   "outputs": [],
   "source": [
    "loss_ = loss_[\"# loss\"].tolist()\n",
    "#t_loss_ = t_loss_[\"# loss\"].tolist()"
   ]
  },
  {
   "cell_type": "code",
   "execution_count": 47,
   "metadata": {},
   "outputs": [
    {
     "data": {
      "text/plain": [
       "319500"
      ]
     },
     "execution_count": 47,
     "metadata": {},
     "output_type": "execute_result"
    }
   ],
   "source": [
    "len(sigma_lst)"
   ]
  },
  {
   "cell_type": "code",
   "execution_count": 48,
   "metadata": {},
   "outputs": [
    {
     "data": {
      "text/plain": [
       "-0.02089945413172245"
      ]
     },
     "execution_count": 48,
     "metadata": {},
     "output_type": "execute_result"
    }
   ],
   "source": [
    "float(sigma_lst[0])"
   ]
  },
  {
   "cell_type": "code",
   "execution_count": 49,
   "metadata": {},
   "outputs": [],
   "source": [
    "# Visualize loss history\n",
    "img_num = 582 # Spic # 345 # Mal -- \n",
    "epoch_loss = []\n",
    "i = 0\n",
    "for _ in range(300):\n",
    "    acc_loss = 0.\n",
    "    for batch in range(img_num):\n",
    "        # do the training \n",
    "        acc_loss += loss_[i]\n",
    "        i+=1\n",
    "    epoch_loss.append((float(acc_loss) / img_num))"
   ]
  },
  {
   "cell_type": "code",
   "execution_count": 50,
   "metadata": {},
   "outputs": [
    {
     "data": {
      "text/plain": [
       "'t_img_num = 145 # Spic 86 # Mal -- \\nt_epoch_loss = []\\ni = 0\\nfor _ in range(300):\\n    acc_loss = 0.\\n    for batch in range(t_img_num):\\n        # do the training \\n        acc_loss += t_loss_[i]\\n        #print(acc_loss)\\n        i+=1\\n    t_epoch_loss.append((float(acc_loss) / t_img_num))'"
      ]
     },
     "execution_count": 50,
     "metadata": {},
     "output_type": "execute_result"
    }
   ],
   "source": [
    "# Visualize test loss history\n",
    "'''t_img_num = 145 # Spic 86 # Mal -- \n",
    "t_epoch_loss = []\n",
    "i = 0\n",
    "for _ in range(300):\n",
    "    acc_loss = 0.\n",
    "    for batch in range(t_img_num):\n",
    "        # do the training \n",
    "        acc_loss += t_loss_[i]\n",
    "        #print(acc_loss)\n",
    "        i+=1\n",
    "    t_epoch_loss.append((float(acc_loss) / t_img_num))''' "
   ]
  },
  {
   "cell_type": "code",
   "execution_count": 51,
   "metadata": {},
   "outputs": [],
   "source": [
    "epoch_count = range(1,len(epoch_loss)+1)\n",
    "#t_epoch_count = range(1,len(t_epoch_loss)+1)"
   ]
  },
  {
   "cell_type": "code",
   "execution_count": 52,
   "metadata": {},
   "outputs": [
    {
     "data": {
      "image/png": "[encoded data removed]",
      "text/plain": [
       "<Figure size 640x480 with 1 Axes>"
      ]
     },
     "metadata": {},
     "output_type": "display_data"
    }
   ],
   "source": [
    "# Visualize loss history\n",
    "plt.plot(epoch_count, epoch_loss)\n",
    "#plt.plot(epoch_count, t_epoch_loss)\n",
    "plt.legend(['Training Loss', 'Testing Loss'])\n",
    "plt.xlabel('Epoch')\n",
    "plt.ylabel('Loss')\n",
    "plt.show();"
   ]
  },
  {
   "cell_type": "code",
   "execution_count": 53,
   "metadata": {},
   "outputs": [
    {
     "data": {
      "text/plain": [
       "'\\nimg_num = 582\\ni = 0\\nt_epoch_loss = []\\nfor _ in range(300):\\n    acc_loss = 0.\\n    for batch in range(img_num):\\n        # do the training \\n        acc_loss += sigma_lst[i]\\n        #print(acc_loss)\\n        i+=1\\n    t_epoch_loss.append((float(acc_loss) / img_num))\\n'"
      ]
     },
     "execution_count": 53,
     "metadata": {},
     "output_type": "execute_result"
    }
   ],
   "source": [
    "'''\n",
    "img_num = 582\n",
    "i = 0\n",
    "t_epoch_loss = []\n",
    "for _ in range(300):\n",
    "    acc_loss = 0.\n",
    "    for batch in range(img_num):\n",
    "        # do the training \n",
    "        acc_loss += sigma_lst[i]\n",
    "        #print(acc_loss)\n",
    "        i+=1\n",
    "    t_epoch_loss.append((float(acc_loss) / img_num))\n",
    "''' "
   ]
  },
  {
   "cell_type": "code",
   "execution_count": 54,
   "metadata": {
    "colab": {
     "base_uri": "https://localhost:8080/",
     "height": 268
    },
    "executionInfo": {
     "elapsed": 224,
     "status": "ok",
     "timestamp": 1658720484228,
     "user": {
      "displayName": "Ian W.",
      "userId": "17896725064908185417"
     },
     "user_tz": 300
    },
    "id": "8sObI6zrY0Ii",
    "outputId": "5fed5577-0c99-40a9-cb6f-b841b818db86"
   },
   "outputs": [
    {
     "name": "stdout",
     "output_type": "stream",
     "text": [
      "1065\n"
     ]
    },
    {
     "ename": "InvalidArgumentError",
     "evalue": "Index out of range using input dim 3; input has only 3 dims [Op:StridedSlice] name: strided_slice/",
     "output_type": "error",
     "traceback": [
      "\u001b[1;31m---------------------------------------------------------------------------\u001b[0m",
      "\u001b[1;31mInvalidArgumentError\u001b[0m                      Traceback (most recent call last)",
      "Input \u001b[1;32mIn [54]\u001b[0m, in \u001b[0;36m<cell line: 10>\u001b[1;34m()\u001b[0m\n\u001b[0;32m      8\u001b[0m latent \u001b[38;5;241m=\u001b[39m final([mean, log_var])\n\u001b[0;32m      9\u001b[0m generated_images \u001b[38;5;241m=\u001b[39m dec(latent, training\u001b[38;5;241m=\u001b[39m\u001b[38;5;28;01mFalse\u001b[39;00m)\n\u001b[1;32m---> 10\u001b[0m plt\u001b[38;5;241m.\u001b[39mimshow(np\u001b[38;5;241m.\u001b[39marray(\u001b[43mlist_data_copy\u001b[49m\u001b[43m[\u001b[49m\u001b[38;5;241;43m12\u001b[39;49m\u001b[43m]\u001b[49m\u001b[43m[\u001b[49m\u001b[38;5;241;43m0\u001b[39;49m\u001b[43m,\u001b[49m\u001b[43m \u001b[49m\u001b[43m:\u001b[49m\u001b[43m,\u001b[49m\u001b[43m:\u001b[49m\u001b[43m,\u001b[49m\u001b[38;5;241;43m0\u001b[39;49m\u001b[43m]\u001b[49m)\u001b[38;5;241m*\u001b[39m\u001b[38;5;241m127.5\u001b[39m\u001b[38;5;241m+\u001b[39m(\u001b[38;5;241m-\u001b[39m\u001b[38;5;241m1\u001b[39m))\n\u001b[0;32m     11\u001b[0m plt\u001b[38;5;241m.\u001b[39mgray()\n\u001b[0;32m     12\u001b[0m plt\u001b[38;5;241m.\u001b[39maxis(\u001b[38;5;28;01mFalse\u001b[39;00m)\n",
      "File \u001b[1;32m~\\Anaconda3\\envs\\tf-gpu\\lib\\site-packages\\tensorflow\\python\\util\\dispatch.py:206\u001b[0m, in \u001b[0;36madd_dispatch_support.<locals>.wrapper\u001b[1;34m(*args, **kwargs)\u001b[0m\n\u001b[0;32m    204\u001b[0m \u001b[38;5;124;03m\"\"\"Call target, and fall back on dispatchers if there is a TypeError.\"\"\"\u001b[39;00m\n\u001b[0;32m    205\u001b[0m \u001b[38;5;28;01mtry\u001b[39;00m:\n\u001b[1;32m--> 206\u001b[0m   \u001b[38;5;28;01mreturn\u001b[39;00m target(\u001b[38;5;241m*\u001b[39margs, \u001b[38;5;241m*\u001b[39m\u001b[38;5;241m*\u001b[39mkwargs)\n\u001b[0;32m    207\u001b[0m \u001b[38;5;28;01mexcept\u001b[39;00m (\u001b[38;5;167;01mTypeError\u001b[39;00m, \u001b[38;5;167;01mValueError\u001b[39;00m):\n\u001b[0;32m    208\u001b[0m   \u001b[38;5;66;03m# Note: convert_to_eager_tensor currently raises a ValueError, not a\u001b[39;00m\n\u001b[0;32m    209\u001b[0m   \u001b[38;5;66;03m# TypeError, when given unexpected types.  So we need to catch both.\u001b[39;00m\n\u001b[0;32m    210\u001b[0m   result \u001b[38;5;241m=\u001b[39m dispatch(wrapper, args, kwargs)\n",
      "File \u001b[1;32m~\\Anaconda3\\envs\\tf-gpu\\lib\\site-packages\\tensorflow\\python\\ops\\array_ops.py:1041\u001b[0m, in \u001b[0;36m_slice_helper\u001b[1;34m(tensor, slice_spec, var)\u001b[0m\n\u001b[0;32m   1039\u001b[0m   var_empty \u001b[38;5;241m=\u001b[39m constant([], dtype\u001b[38;5;241m=\u001b[39mdtypes\u001b[38;5;241m.\u001b[39mint32)\n\u001b[0;32m   1040\u001b[0m   packed_begin \u001b[38;5;241m=\u001b[39m packed_end \u001b[38;5;241m=\u001b[39m packed_strides \u001b[38;5;241m=\u001b[39m var_empty\n\u001b[1;32m-> 1041\u001b[0m \u001b[38;5;28;01mreturn\u001b[39;00m \u001b[43mstrided_slice\u001b[49m\u001b[43m(\u001b[49m\n\u001b[0;32m   1042\u001b[0m \u001b[43m    \u001b[49m\u001b[43mtensor\u001b[49m\u001b[43m,\u001b[49m\n\u001b[0;32m   1043\u001b[0m \u001b[43m    \u001b[49m\u001b[43mpacked_begin\u001b[49m\u001b[43m,\u001b[49m\n\u001b[0;32m   1044\u001b[0m \u001b[43m    \u001b[49m\u001b[43mpacked_end\u001b[49m\u001b[43m,\u001b[49m\n\u001b[0;32m   1045\u001b[0m \u001b[43m    \u001b[49m\u001b[43mpacked_strides\u001b[49m\u001b[43m,\u001b[49m\n\u001b[0;32m   1046\u001b[0m \u001b[43m    \u001b[49m\u001b[43mbegin_mask\u001b[49m\u001b[38;5;241;43m=\u001b[39;49m\u001b[43mbegin_mask\u001b[49m\u001b[43m,\u001b[49m\n\u001b[0;32m   1047\u001b[0m \u001b[43m    \u001b[49m\u001b[43mend_mask\u001b[49m\u001b[38;5;241;43m=\u001b[39;49m\u001b[43mend_mask\u001b[49m\u001b[43m,\u001b[49m\n\u001b[0;32m   1048\u001b[0m \u001b[43m    \u001b[49m\u001b[43mshrink_axis_mask\u001b[49m\u001b[38;5;241;43m=\u001b[39;49m\u001b[43mshrink_axis_mask\u001b[49m\u001b[43m,\u001b[49m\n\u001b[0;32m   1049\u001b[0m \u001b[43m    \u001b[49m\u001b[43mnew_axis_mask\u001b[49m\u001b[38;5;241;43m=\u001b[39;49m\u001b[43mnew_axis_mask\u001b[49m\u001b[43m,\u001b[49m\n\u001b[0;32m   1050\u001b[0m \u001b[43m    \u001b[49m\u001b[43mellipsis_mask\u001b[49m\u001b[38;5;241;43m=\u001b[39;49m\u001b[43mellipsis_mask\u001b[49m\u001b[43m,\u001b[49m\n\u001b[0;32m   1051\u001b[0m \u001b[43m    \u001b[49m\u001b[43mvar\u001b[49m\u001b[38;5;241;43m=\u001b[39;49m\u001b[43mvar\u001b[49m\u001b[43m,\u001b[49m\n\u001b[0;32m   1052\u001b[0m \u001b[43m    \u001b[49m\u001b[43mname\u001b[49m\u001b[38;5;241;43m=\u001b[39;49m\u001b[43mname\u001b[49m\u001b[43m)\u001b[49m\n",
      "File \u001b[1;32m~\\Anaconda3\\envs\\tf-gpu\\lib\\site-packages\\tensorflow\\python\\util\\dispatch.py:206\u001b[0m, in \u001b[0;36madd_dispatch_support.<locals>.wrapper\u001b[1;34m(*args, **kwargs)\u001b[0m\n\u001b[0;32m    204\u001b[0m \u001b[38;5;124;03m\"\"\"Call target, and fall back on dispatchers if there is a TypeError.\"\"\"\u001b[39;00m\n\u001b[0;32m    205\u001b[0m \u001b[38;5;28;01mtry\u001b[39;00m:\n\u001b[1;32m--> 206\u001b[0m   \u001b[38;5;28;01mreturn\u001b[39;00m target(\u001b[38;5;241m*\u001b[39margs, \u001b[38;5;241m*\u001b[39m\u001b[38;5;241m*\u001b[39mkwargs)\n\u001b[0;32m    207\u001b[0m \u001b[38;5;28;01mexcept\u001b[39;00m (\u001b[38;5;167;01mTypeError\u001b[39;00m, \u001b[38;5;167;01mValueError\u001b[39;00m):\n\u001b[0;32m    208\u001b[0m   \u001b[38;5;66;03m# Note: convert_to_eager_tensor currently raises a ValueError, not a\u001b[39;00m\n\u001b[0;32m    209\u001b[0m   \u001b[38;5;66;03m# TypeError, when given unexpected types.  So we need to catch both.\u001b[39;00m\n\u001b[0;32m    210\u001b[0m   result \u001b[38;5;241m=\u001b[39m dispatch(wrapper, args, kwargs)\n",
      "File \u001b[1;32m~\\Anaconda3\\envs\\tf-gpu\\lib\\site-packages\\tensorflow\\python\\ops\\array_ops.py:1214\u001b[0m, in \u001b[0;36mstrided_slice\u001b[1;34m(input_, begin, end, strides, begin_mask, end_mask, ellipsis_mask, new_axis_mask, shrink_axis_mask, var, name)\u001b[0m\n\u001b[0;32m   1211\u001b[0m \u001b[38;5;28;01mif\u001b[39;00m strides \u001b[38;5;129;01mis\u001b[39;00m \u001b[38;5;28;01mNone\u001b[39;00m:\n\u001b[0;32m   1212\u001b[0m   strides \u001b[38;5;241m=\u001b[39m ones_like(begin)\n\u001b[1;32m-> 1214\u001b[0m op \u001b[38;5;241m=\u001b[39m \u001b[43mgen_array_ops\u001b[49m\u001b[38;5;241;43m.\u001b[39;49m\u001b[43mstrided_slice\u001b[49m\u001b[43m(\u001b[49m\n\u001b[0;32m   1215\u001b[0m \u001b[43m    \u001b[49m\u001b[38;5;28;43minput\u001b[39;49m\u001b[38;5;241;43m=\u001b[39;49m\u001b[43minput_\u001b[49m\u001b[43m,\u001b[49m\n\u001b[0;32m   1216\u001b[0m \u001b[43m    \u001b[49m\u001b[43mbegin\u001b[49m\u001b[38;5;241;43m=\u001b[39;49m\u001b[43mbegin\u001b[49m\u001b[43m,\u001b[49m\n\u001b[0;32m   1217\u001b[0m \u001b[43m    \u001b[49m\u001b[43mend\u001b[49m\u001b[38;5;241;43m=\u001b[39;49m\u001b[43mend\u001b[49m\u001b[43m,\u001b[49m\n\u001b[0;32m   1218\u001b[0m \u001b[43m    \u001b[49m\u001b[43mstrides\u001b[49m\u001b[38;5;241;43m=\u001b[39;49m\u001b[43mstrides\u001b[49m\u001b[43m,\u001b[49m\n\u001b[0;32m   1219\u001b[0m \u001b[43m    \u001b[49m\u001b[43mname\u001b[49m\u001b[38;5;241;43m=\u001b[39;49m\u001b[43mname\u001b[49m\u001b[43m,\u001b[49m\n\u001b[0;32m   1220\u001b[0m \u001b[43m    \u001b[49m\u001b[43mbegin_mask\u001b[49m\u001b[38;5;241;43m=\u001b[39;49m\u001b[43mbegin_mask\u001b[49m\u001b[43m,\u001b[49m\n\u001b[0;32m   1221\u001b[0m \u001b[43m    \u001b[49m\u001b[43mend_mask\u001b[49m\u001b[38;5;241;43m=\u001b[39;49m\u001b[43mend_mask\u001b[49m\u001b[43m,\u001b[49m\n\u001b[0;32m   1222\u001b[0m \u001b[43m    \u001b[49m\u001b[43mellipsis_mask\u001b[49m\u001b[38;5;241;43m=\u001b[39;49m\u001b[43mellipsis_mask\u001b[49m\u001b[43m,\u001b[49m\n\u001b[0;32m   1223\u001b[0m \u001b[43m    \u001b[49m\u001b[43mnew_axis_mask\u001b[49m\u001b[38;5;241;43m=\u001b[39;49m\u001b[43mnew_axis_mask\u001b[49m\u001b[43m,\u001b[49m\n\u001b[0;32m   1224\u001b[0m \u001b[43m    \u001b[49m\u001b[43mshrink_axis_mask\u001b[49m\u001b[38;5;241;43m=\u001b[39;49m\u001b[43mshrink_axis_mask\u001b[49m\u001b[43m)\u001b[49m\n\u001b[0;32m   1226\u001b[0m parent_name \u001b[38;5;241m=\u001b[39m name\n\u001b[0;32m   1228\u001b[0m \u001b[38;5;28;01mif\u001b[39;00m var \u001b[38;5;129;01mis\u001b[39;00m \u001b[38;5;129;01mnot\u001b[39;00m \u001b[38;5;28;01mNone\u001b[39;00m:\n",
      "File \u001b[1;32m~\\Anaconda3\\envs\\tf-gpu\\lib\\site-packages\\tensorflow\\python\\ops\\gen_array_ops.py:10510\u001b[0m, in \u001b[0;36mstrided_slice\u001b[1;34m(input, begin, end, strides, begin_mask, end_mask, ellipsis_mask, new_axis_mask, shrink_axis_mask, name)\u001b[0m\n\u001b[0;32m  10508\u001b[0m   \u001b[38;5;28;01mreturn\u001b[39;00m _result\n\u001b[0;32m  10509\u001b[0m \u001b[38;5;28;01mexcept\u001b[39;00m _core\u001b[38;5;241m.\u001b[39m_NotOkStatusException \u001b[38;5;28;01mas\u001b[39;00m e:\n\u001b[1;32m> 10510\u001b[0m   \u001b[43m_ops\u001b[49m\u001b[38;5;241;43m.\u001b[39;49m\u001b[43mraise_from_not_ok_status\u001b[49m\u001b[43m(\u001b[49m\u001b[43me\u001b[49m\u001b[43m,\u001b[49m\u001b[43m \u001b[49m\u001b[43mname\u001b[49m\u001b[43m)\u001b[49m\n\u001b[0;32m  10511\u001b[0m \u001b[38;5;28;01mexcept\u001b[39;00m _core\u001b[38;5;241m.\u001b[39m_FallbackException:\n\u001b[0;32m  10512\u001b[0m   \u001b[38;5;28;01mpass\u001b[39;00m\n",
      "File \u001b[1;32m~\\Anaconda3\\envs\\tf-gpu\\lib\\site-packages\\tensorflow\\python\\framework\\ops.py:6941\u001b[0m, in \u001b[0;36mraise_from_not_ok_status\u001b[1;34m(e, name)\u001b[0m\n\u001b[0;32m   6939\u001b[0m message \u001b[38;5;241m=\u001b[39m e\u001b[38;5;241m.\u001b[39mmessage \u001b[38;5;241m+\u001b[39m (\u001b[38;5;124m\"\u001b[39m\u001b[38;5;124m name: \u001b[39m\u001b[38;5;124m\"\u001b[39m \u001b[38;5;241m+\u001b[39m name \u001b[38;5;28;01mif\u001b[39;00m name \u001b[38;5;129;01mis\u001b[39;00m \u001b[38;5;129;01mnot\u001b[39;00m \u001b[38;5;28;01mNone\u001b[39;00m \u001b[38;5;28;01melse\u001b[39;00m \u001b[38;5;124m\"\u001b[39m\u001b[38;5;124m\"\u001b[39m)\n\u001b[0;32m   6940\u001b[0m \u001b[38;5;66;03m# pylint: disable=protected-access\u001b[39;00m\n\u001b[1;32m-> 6941\u001b[0m \u001b[43msix\u001b[49m\u001b[38;5;241;43m.\u001b[39;49m\u001b[43mraise_from\u001b[49m\u001b[43m(\u001b[49m\u001b[43mcore\u001b[49m\u001b[38;5;241;43m.\u001b[39;49m\u001b[43m_status_to_exception\u001b[49m\u001b[43m(\u001b[49m\u001b[43me\u001b[49m\u001b[38;5;241;43m.\u001b[39;49m\u001b[43mcode\u001b[49m\u001b[43m,\u001b[49m\u001b[43m \u001b[49m\u001b[43mmessage\u001b[49m\u001b[43m)\u001b[49m\u001b[43m,\u001b[49m\u001b[43m \u001b[49m\u001b[38;5;28;43;01mNone\u001b[39;49;00m\u001b[43m)\u001b[49m\n",
      "File \u001b[1;32m<string>:3\u001b[0m, in \u001b[0;36mraise_from\u001b[1;34m(value, from_value)\u001b[0m\n",
      "\u001b[1;31mInvalidArgumentError\u001b[0m: Index out of range using input dim 3; input has only 3 dims [Op:StridedSlice] name: strided_slice/"
     ]
    }
   ],
   "source": [
    "#Visualize one image \n",
    "list_data = list(normalized_ds)\n",
    "list_data_copy = list_data \n",
    "\n",
    "print(len(list_data_copy))\n",
    "\n",
    "mean, log_var = enc(list_data_copy[12], training=False)\n",
    "latent = final([mean, log_var])\n",
    "generated_images = dec(latent, training=False)\n",
    "plt.imshow(np.array(list_data_copy[12][0, :,:,0])*127.5+(-1))\n",
    "plt.gray()\n",
    "plt.axis(False)\n",
    "plt.show()"
   ]
  },
  {
   "cell_type": "code",
   "execution_count": null,
   "metadata": {
    "scrolled": true
   },
   "outputs": [],
   "source": [
    "reconst = dec.predict(latent)\n",
    "#arr = np.array(generated_images)\n",
    "plt.imshow(np.array(reconst[0, :,:,0])*127.5+(-1))\n",
    "plt.gray()\n",
    "plt.axis(False)\n",
    "plt.show()"
   ]
  },
  {
   "cell_type": "code",
   "execution_count": null,
   "metadata": {
    "colab": {
     "base_uri": "https://localhost:8080/"
    },
    "executionInfo": {
     "elapsed": 213,
     "status": "ok",
     "timestamp": 1658720129030,
     "user": {
      "displayName": "Ian W.",
      "userId": "17896725064908185417"
     },
     "user_tz": 300
    },
    "id": "ne4-a2ZoY0C2",
    "outputId": "18e2f67f-fc1c-4a74-847f-912b4bde5b4b"
   },
   "outputs": [],
   "source": [
    "np.array(generated_images[0, :,:,0]*127.5+(-1))"
   ]
  },
  {
   "cell_type": "code",
   "execution_count": null,
   "metadata": {
    "colab": {
     "base_uri": "https://localhost:8080/"
    },
    "executionInfo": {
     "elapsed": 166,
     "status": "ok",
     "timestamp": 1658678142700,
     "user": {
      "displayName": "Ian W.",
      "userId": "17896725064908185417"
     },
     "user_tz": 300
    },
    "id": "0Db4NfAUm3Lx",
    "outputId": "2aa80c51-263a-4feb-acfe-9a3536c97436"
   },
   "outputs": [],
   "source": [
    "enc = encoder(input_encoder)\n",
    "enc.output"
   ]
  },
  {
   "cell_type": "code",
   "execution_count": null,
   "metadata": {
    "colab": {
     "base_uri": "https://localhost:8080/",
     "height": 328
    },
    "executionInfo": {
     "elapsed": 562,
     "status": "error",
     "timestamp": 1658678145113,
     "user": {
      "displayName": "Ian W.",
      "userId": "17896725064908185417"
     },
     "user_tz": 300
    },
    "id": "G0bdqm5OSXvf",
    "outputId": "203519e2-e419-44a0-d913-c43170429a7e"
   },
   "outputs": [],
   "source": [
    "enc.load_weights(r'\\Users\\aalmans8\\Documents\\Spic_Optimal_Sigma_VAE\\Results\\training_weights\\enc_299.h5')\n",
    "dec.load_weights(r'\\Users\\aalmans8\\Documents\\Spic_Optimal_Sigma_VAE\\Results\\training_weights\\dec_299.h5')"
   ]
  },
  {
   "cell_type": "code",
   "execution_count": null,
   "metadata": {},
   "outputs": [],
   "source": [
    "# example of calculating the frechet inception distance in Keras\n",
    "import numpy\n",
    "from numpy import cov\n",
    "from numpy import trace\n",
    "from numpy import iscomplexobj\n",
    "from numpy import asarray\n",
    "from numpy.random import randint\n",
    "from scipy.linalg import sqrtm\n",
    "from keras.applications.inception_v3 import InceptionV3\n",
    "from keras.applications.inception_v3 import preprocess_input\n",
    "from keras.datasets.mnist import load_data\n",
    "from skimage.transform import resize\n",
    "# scale an array of images to a new size\n",
    "def scale_images(images, new_shape):\n",
    "    images_list = list()\n",
    "    for image in images:\n",
    "        # resize with nearest neighbor interpolation\n",
    "        new_image = resize(image, new_shape, 0)\n",
    "        # store\n",
    "        images_list.append(new_image)\n",
    "    return asarray(images_list)\n",
    "# calculate frechet inception distance\n",
    "def calculate_fid():\n",
    "    # prepare the inception v3 model\n",
    "    model = InceptionV3(include_top=False, pooling='avg', input_shape=(299,299,3))\n",
    "\t# calculate activations\n",
    "    train = x_train/127.5+(-1)\n",
    "    m, v = enc.predict(train)\n",
    "    latent = final([m,v])\n",
    "    reconst = dec.predict(latent)\n",
    "    \n",
    "    # resize images\n",
    "    train = scale_images(train, (299,299,3))\n",
    "    reconst = scale_images(reconst, (299,299,3))\n",
    "    print('Scaled', train.shape, reconst.shape)\n",
    "    \n",
    "    # pre-process images\n",
    "    train = preprocess_input(train)\n",
    "    reconst = preprocess_input(reconst)\n",
    "    \n",
    "    act1 = model.predict(train) \n",
    "    act2 = model.predict(reconst) \n",
    "    \n",
    "    # calculate mean and covariance statistics\n",
    "    mu1, sigma1 = act1.mean(axis=0), cov(act1, rowvar=False)\n",
    "    mu2, sigma2 = act2.mean(axis=0), cov(act2, rowvar=False)\n",
    "    # calculate sum squared difference between means\n",
    "    ssdiff = numpy.sum((mu1 - mu2)**2.0)\n",
    "    # calculate sqrt of product between cov\n",
    "    covmean = sqrtm(sigma1.dot(sigma2))\n",
    "    # check and correct imaginary numbers from sqrt\n",
    "    if iscomplexobj(covmean):\n",
    "        covmean = covmean.real\n",
    "    # calculate score\n",
    "    fid = ssdiff + trace(sigma1 + sigma2 - 2.0 * covmean)\n",
    "    return fid"
   ]
  },
  {
   "cell_type": "code",
   "execution_count": null,
   "metadata": {},
   "outputs": [],
   "source": [
    "# calculate fid\n",
    "fid = calculate_fid()\n",
    "print('FID: %.3f' % fid)"
   ]
  },
  {
   "cell_type": "markdown",
   "metadata": {},
   "source": [
    "# Original training images:"
   ]
  },
  {
   "cell_type": "code",
   "execution_count": null,
   "metadata": {
    "scrolled": false
   },
   "outputs": [],
   "source": [
    "m, v = enc.predict(x_train[:10]/127.5+(-1)) #dividing by 255 is important to be able to see the images\n",
    "latent = final([m,v])\n",
    "reconst = dec.predict(latent)\n",
    "\n",
    "n = 10  ## how many digits we will display\n",
    "plt.figure(figsize=(20, 4))\n",
    "for i in range(n):\n",
    "    ## display original\n",
    "    ax = plt.subplot(2, n, i+ 1)\n",
    "    #ax.set_title(\"Original Image\")\n",
    "    plt.imshow(x_train[i, :,:,0]*127.5+(-1))\n",
    "    plt.gray()\n",
    "    plt.axis(False)\n",
    "\n",
    "    ## display reconstruction\n",
    "    ax = plt.subplot(2, n, i + 1 + n)\n",
    "    #ax.set_title(\"Reconstructed Image\")\n",
    "    plt.imshow(np.array(reconst[i, :,:,0])*127.5+(-1))\n",
    "    plt.gray()\n",
    "    plt.axis(False)"
   ]
  },
  {
   "cell_type": "markdown",
   "metadata": {},
   "source": [
    "# Testing data:"
   ]
  },
  {
   "cell_type": "code",
   "execution_count": null,
   "metadata": {},
   "outputs": [],
   "source": [
    "figsize = 15\n",
    "m,v = enc.predict(x_test[:10]/127.5+(-1))\n",
    "latent = final([m,v])\n",
    "reconst_test = dec.predict(latent)\n",
    "\n",
    "n = 10  ## how many digits we will display\n",
    "plt.figure(figsize=(20, 4))\n",
    "for i in range(n):\n",
    "    ## display original\n",
    "    ax = plt.subplot(2, n, i+ 1)\n",
    "    #ax.set_title(\"Original Image\")\n",
    "    plt.imshow(x_test[i, :,:,0]*127.5+(-1))\n",
    "    plt.gray()\n",
    "    plt.axis(False)\n",
    "\n",
    "    ## display reconstruction\n",
    "    ax = plt.subplot(2, n, i + 1 + n)\n",
    "    #ax.set_title(\"Reconstructed Image\")\n",
    "    plt.imshow(np.array(reconst_test[i, :,:,0])*127.5+(-1))\n",
    "    plt.gray()\n",
    "    plt.axis(False)"
   ]
  },
  {
   "cell_type": "raw",
   "metadata": {},
   "source": [
    "# Reconstructing Images with Latent-Vector Sampled from Normal Distribution:"
   ]
  },
  {
   "cell_type": "code",
   "execution_count": null,
   "metadata": {},
   "outputs": [],
   "source": [
    "unique, counts = np.unique(reconst[7,:,:,0]*127.5+(-1), return_counts=True)\n",
    "print(unique)"
   ]
  },
  {
   "cell_type": "code",
   "execution_count": null,
   "metadata": {},
   "outputs": [],
   "source": [
    "figsize = 15\n",
    "m,v = enc.predict(x_test[:10]/127.5+(-1))\n",
    "latent = final([m,v])\n",
    "#print(v)\n",
    "#print(m)"
   ]
  },
  {
   "cell_type": "code",
   "execution_count": null,
   "metadata": {},
   "outputs": [],
   "source": [
    "x = np.random.normal(size = (25,70))\n",
    "reconstruct = dec.predict(x)\n",
    "fig = plt.figure(figsize=(figsize, 10))\n",
    "\n",
    "for i in range(25):\n",
    "    ax = fig.add_subplot(5, 5, i+1)\n",
    "    ax.axis('off')\n",
    "    ax.imshow(np.array(reconstruct[i, :,:,0])*127.5+(-1), cmap = 'gray')"
   ]
  },
  {
   "cell_type": "code",
   "execution_count": null,
   "metadata": {},
   "outputs": [],
   "source": []
  }
 ],
 "metadata": {
  "accelerator": "GPU",
  "colab": {
   "authorship_tag": "ABX9TyOtwTekMvPo4iFX/5QA5TZT",
   "collapsed_sections": [],
   "mount_file_id": "1_RNtYZMz3268lawgRzo9qrieoosM-zvR",
   "name": "Copy of VAE_DICOMPadding_LIDC.ipynb",
   "provenance": []
  },
  "gpuClass": "standard",
  "kernelspec": {
   "display_name": "Python 3 (ipykernel)",
   "language": "python",
   "name": "python3"
  },
  "language_info": {
   "codemirror_mode": {
    "name": "ipython",
    "version": 3
   },
   "file_extension": ".py",
   "mimetype": "text/x-python",
   "name": "python",
   "nbconvert_exporter": "python",
   "pygments_lexer": "ipython3",
   "version": "3.9.13"
  }
 },
 "nbformat": 4,
 "nbformat_minor": 4
}
